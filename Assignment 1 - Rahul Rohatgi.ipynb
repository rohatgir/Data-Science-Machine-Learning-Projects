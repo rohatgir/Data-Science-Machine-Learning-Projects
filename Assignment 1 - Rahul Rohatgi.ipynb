{
 "cells": [
  {
   "cell_type": "markdown",
   "metadata": {},
   "source": [
    "# Assignment 1\n",
    "MIE1642 Intro. to Data Science <br> \n",
    "By: Rahul Rohatgi <br>\n",
    "Date: Nov 13,2017 <br>"
   ]
  },
  {
   "cell_type": "markdown",
   "metadata": {},
   "source": [
    "## 1.0 Importing Libraries"
   ]
  },
  {
   "cell_type": "markdown",
   "metadata": {},
   "source": [
    "The following are the libraries used to accomplish the analysis."
   ]
  },
  {
   "cell_type": "code",
   "execution_count": 1,
   "metadata": {},
   "outputs": [
    {
     "name": "stderr",
     "output_type": "stream",
     "text": [
      "/usr/local/lib/python3.5/dist-packages/sklearn/cross_validation.py:41: DeprecationWarning: This module was deprecated in version 0.18 in favor of the model_selection module into which all the refactored classes and functions are moved. Also note that the interface of the new CV iterators are different from that of this module. This module will be removed in 0.20.\n",
      "  \"This module will be removed in 0.20.\", DeprecationWarning)\n"
     ]
    }
   ],
   "source": [
    "import numpy as np\n",
    "import pandas as pd\n",
    "import re\n",
    "import html\n",
    "import matplotlib.pyplot as plt\n",
    "\n",
    "%matplotlib inline\n",
    "\n",
    "#from __future__ import division, print_function, absolute_import\n",
    "\n",
    "from sklearn.feature_extraction.text import CountVectorizer\n",
    "from sklearn.linear_model import LogisticRegression\n",
    "from sklearn.cross_validation import train_test_split"
   ]
  },
  {
   "cell_type": "markdown",
   "metadata": {},
   "source": [
    "Please ignore the error as it relates to one of the package functions being changed in future version. "
   ]
  },
  {
   "cell_type": "markdown",
   "metadata": {},
   "source": [
    "## 2.0 Classified Text"
   ]
  },
  {
   "cell_type": "markdown",
   "metadata": {},
   "source": [
    "First the classified text is imported into a panda series. Then the class and text column are extracted into different variables. Only these two columns are extracted because they are the only ones required for the analysis. <br>\n",
    "<br>\n",
    "Note that for the file to be read it must be present within the workbench with the exact same name."
   ]
  },
  {
   "cell_type": "code",
   "execution_count": 2,
   "metadata": {},
   "outputs": [],
   "source": [
    "dataset = pd.read_csv('classified_tweets.txt')"
   ]
  },
  {
   "cell_type": "code",
   "execution_count": 3,
   "metadata": {},
   "outputs": [],
   "source": [
    "dataset_y = dataset['class']\n",
    "dataset_x = dataset['text']"
   ]
  },
  {
   "cell_type": "markdown",
   "metadata": {},
   "source": [
    "### 2.1 Cleaning Classified Dataset"
   ]
  },
  {
   "cell_type": "markdown",
   "metadata": {},
   "source": [
    "The tweets are cleaned up before they are used for model in order to get raid of unwanted characteristics such as URL links. The cleaning started by first making all the tweets in lower case."
   ]
  },
  {
   "cell_type": "code",
   "execution_count": 4,
   "metadata": {},
   "outputs": [],
   "source": [
    "dataset_x = dataset_x.str.lower()"
   ]
  },
  {
   "cell_type": "markdown",
   "metadata": {},
   "source": [
    "Next the URLs were removed. This included picture URLs."
   ]
  },
  {
   "cell_type": "code",
   "execution_count": 5,
   "metadata": {},
   "outputs": [],
   "source": [
    "dataset_x = dataset_x.str.replace('http\\S+|www.\\S+|pic.t\\S+','',case=False)"
   ]
  },
  {
   "cell_type": "markdown",
   "metadata": {},
   "source": [
    "After the Html tags and attributes were removed. "
   ]
  },
  {
   "cell_type": "code",
   "execution_count": 6,
   "metadata": {},
   "outputs": [],
   "source": [
    "tag_re = re.compile(r'<[^>]+>')\n",
    "\n",
    "def remove_tags(dataset_x):\n",
    "    return tag_re.sub('',dataset_x)"
   ]
  },
  {
   "cell_type": "markdown",
   "metadata": {},
   "source": [
    "Last of all to clean the data all Html character codes were replaced with their ASCII equivalent. (E.g. &amp; = &)"
   ]
  },
  {
   "cell_type": "code",
   "execution_count": 7,
   "metadata": {},
   "outputs": [],
   "source": [
    "html_cc = len(dataset_x)\n",
    "for i in range(0,html_cc):\n",
    "    dataset_x68 = html.unescape(dataset_x.iloc[i])\n",
    "    dataset_x.iloc[i] = dataset_x68\n"
   ]
  },
  {
   "cell_type": "markdown",
   "metadata": {},
   "source": [
    "The data is cleaned in only 5 ways. Above are the four filters and a fifth is accomplished below. These pieces of data were modified/removed because there is no reason to vectorize them as they do not have any sentiment. However, in the case of URLs these can be checked for sentiment but that would require a completely different process and therefore they were removed. As well, going through these five filters of cleaning helps the speed of the execution for the later steps.  "
   ]
  },
  {
   "cell_type": "markdown",
   "metadata": {},
   "source": [
    "### 2.2 Model"
   ]
  },
  {
   "cell_type": "markdown",
   "metadata": {},
   "source": [
    "**_Model Preparation_** <br> <br>\n",
    "In order to create a logistics regression machine learning algorithm for twitter sentiment analysis the model was first prepared. This means vectorizing each word with a number so the machine learning algorithm can accomplish its task. Note that more data cleaning is done in this phase with the scikit learn package. All the stop words are removed from the tweets and the list of these stop words can be found here: http://ir.dcs.gla.ac.uk/resources/linguistic_utils/stop_words. By removing the stop words less features are created and thus making the model more efficient. Likewise, scikit learn package is used because it is one of the simpler and better packages to use for this type of analysis. "
   ]
  },
  {
   "cell_type": "code",
   "execution_count": 8,
   "metadata": {
    "collapsed": true
   },
   "outputs": [],
   "source": [
    "x_train, x_test, y_train, y_test = train_test_split(dataset_x,dataset_y, test_size = 0.3)\n",
    "\n",
    "y_train = y_train.astype('int')\n",
    "\n",
    "bag_of_words = CountVectorizer(stop_words = 'english')\n",
    "\n",
    "x_train_bog = bag_of_words.fit_transform(x_train)\n",
    "\n",
    "x_test_bog = bag_of_words.transform(x_test)"
   ]
  },
  {
   "cell_type": "markdown",
   "metadata": {},
   "source": [
    "The following next few lines of code are used to ensure the size of the features are the same otherwise a model can not be created. "
   ]
  },
  {
   "cell_type": "code",
   "execution_count": 9,
   "metadata": {},
   "outputs": [
    {
     "data": {
      "text/plain": [
       "(140000,)"
      ]
     },
     "execution_count": 9,
     "metadata": {},
     "output_type": "execute_result"
    }
   ],
   "source": [
    "y_train.shape"
   ]
  },
  {
   "cell_type": "code",
   "execution_count": 10,
   "metadata": {},
   "outputs": [
    {
     "data": {
      "text/plain": [
       "(140000, 109357)"
      ]
     },
     "execution_count": 10,
     "metadata": {},
     "output_type": "execute_result"
    }
   ],
   "source": [
    "x_train_bog.shape"
   ]
  },
  {
   "cell_type": "code",
   "execution_count": 11,
   "metadata": {},
   "outputs": [
    {
     "data": {
      "text/plain": [
       "(60000, 109357)"
      ]
     },
     "execution_count": 11,
     "metadata": {},
     "output_type": "execute_result"
    }
   ],
   "source": [
    "x_test_bog.shape"
   ]
  },
  {
   "cell_type": "code",
   "execution_count": 12,
   "metadata": {},
   "outputs": [
    {
     "data": {
      "text/plain": [
       "(60000,)"
      ]
     },
     "execution_count": 12,
     "metadata": {},
     "output_type": "execute_result"
    }
   ],
   "source": [
    "x_test.shape"
   ]
  },
  {
   "cell_type": "markdown",
   "metadata": {},
   "source": [
    "**_Model Implementation_** <br><br>\n",
    "The logistic regression model is created using the train elements and then it is used to predict the sentiment analysis of the test elements. "
   ]
  },
  {
   "cell_type": "code",
   "execution_count": 13,
   "metadata": {},
   "outputs": [
    {
     "name": "stdout",
     "output_type": "stream",
     "text": [
      "[0 0 4 ..., 0 4 4]\n"
     ]
    }
   ],
   "source": [
    "model = LogisticRegression(random_state=0)\n",
    "\n",
    "model.fit(x_train_bog,y_train)\n",
    "\n",
    "predicted = model.predict(x_test_bog)\n",
    "print(predicted)\n",
    "\n",
    "actual = np.array(y_test)"
   ]
  },
  {
   "cell_type": "markdown",
   "metadata": {},
   "source": [
    "**_Model Accuracy_** <br> <br>\n",
    "The accuracy of the model created above is found using the following lines of code. This is important because a low accuracy means the model is not acceptable. Note that each iteration will produce a slightly different score. "
   ]
  },
  {
   "cell_type": "code",
   "execution_count": 14,
   "metadata": {},
   "outputs": [
    {
     "data": {
      "text/plain": [
       "0.7620166666666667"
      ]
     },
     "execution_count": 14,
     "metadata": {},
     "output_type": "execute_result"
    }
   ],
   "source": [
    "correct_counter = 0\n",
    "\n",
    "for i in range(0, len(predicted)):\n",
    "    if predicted[i] == actual[i]:\n",
    "        correct_counter = correct_counter + 1\n",
    "\n",
    "accuracy = correct_counter/len(predicted)\n",
    "accuracy"
   ]
  },
  {
   "cell_type": "markdown",
   "metadata": {},
   "source": [
    "### 2.3 Exploratory Analysis"
   ]
  },
  {
   "cell_type": "markdown",
   "metadata": {},
   "source": [
    "**_Graphical Representation_**<br><br>\n",
    "The below figure (Figure 1) is a pie graph showing the ratio of positive and negative tweets in the classified data set. This helps provide visual insight on how fair the train and test data set are. Ideally the model should not be trained with just positive tweets as then it would not know what a negative tweet would be. This was not the case here, in fact it is even which is great for training the model."
   ]
  },
  {
   "cell_type": "code",
   "execution_count": 15,
   "metadata": {},
   "outputs": [
    {
     "data": {
      "text/plain": [
       "<matplotlib.legend.Legend at 0x7f3868ac6160>"
      ]
     },
     "execution_count": 15,
     "metadata": {},
     "output_type": "execute_result"
    },
    {
     "data": {
      "image/png": "[encoded data removed]",
      "text/plain": [
       "<matplotlib.figure.Figure at 0x7f3860766128>"
      ]
     },
     "metadata": {},
     "output_type": "display_data"
    }
   ],
   "source": [
    "dataset['class'] = dataset['class'].astype(str)\n",
    "\n",
    "ham = dataset[dataset['class'].str.contains('4')] #random variable names used just for graphing purposes\n",
    "ham_len = len(ham)\n",
    "eggs = dataset[dataset['class'].str.contains('0')]\n",
    "eggs_len = len(eggs)\n",
    "\n",
    "i = [ham_len,eggs_len]\n",
    "ru = ['Positive','Negative']\n",
    "cols = ['blue','red']\n",
    "\n",
    "plt.pie(i,labels=ru,colors=cols)\n",
    "plt.title('Positive Vs Negative Tweets in Classified Dataset')\n",
    "plt.legend()"
   ]
  },
  {
   "cell_type": "markdown",
   "metadata": {},
   "source": [
    "Figure 1: Ratio of positive and negative tweets in classified dataset"
   ]
  },
  {
   "cell_type": "markdown",
   "metadata": {},
   "source": [
    "## 3.0 Classified Text"
   ]
  },
  {
   "cell_type": "markdown",
   "metadata": {},
   "source": [
    "**_Importing and Defining Dataset Variables_** <br><br>\n",
    "The unclassified text is imported into a panda series. Then it is converted into a string, so it can be cleaned and analyzed."
   ]
  },
  {
   "cell_type": "code",
   "execution_count": 16,
   "metadata": {},
   "outputs": [],
   "source": [
    "dataset_unclass = pd.read_csv('unclassified_tweets.txt',sep = '\\t', names = ['tweet'])\n",
    "dataset_unclass['tweet'] = dataset_unclass['tweet'].astype(str)\n",
    "dataset_u = dataset_unclass['tweet']"
   ]
  },
  {
   "cell_type": "markdown",
   "metadata": {},
   "source": [
    "### 3.1 Cleaning Unclassified Dataset"
   ]
  },
  {
   "cell_type": "markdown",
   "metadata": {},
   "source": [
    "The exact same cleaning method was used as the classified dataset."
   ]
  },
  {
   "cell_type": "markdown",
   "metadata": {},
   "source": [
    "_Lowercase cleaning_"
   ]
  },
  {
   "cell_type": "code",
   "execution_count": 17,
   "metadata": {},
   "outputs": [],
   "source": [
    "dataset_u = dataset_u.str.lower()"
   ]
  },
  {
   "cell_type": "markdown",
   "metadata": {},
   "source": [
    "_Removing URLS_"
   ]
  },
  {
   "cell_type": "code",
   "execution_count": 18,
   "metadata": {},
   "outputs": [],
   "source": [
    "dataset_u = dataset_u.str.replace('http\\S+|www.\\S+|pic.t\\S+','',case=False)"
   ]
  },
  {
   "cell_type": "markdown",
   "metadata": {},
   "source": [
    "_Removing HTML tags and attributes_"
   ]
  },
  {
   "cell_type": "code",
   "execution_count": 19,
   "metadata": {
    "collapsed": true
   },
   "outputs": [],
   "source": [
    "tag_re = re.compile(r'<[^>]+>')\n",
    "\n",
    "def remove_tags(dataset_u):\n",
    "    return tag_re.sub('',dataset_u)"
   ]
  },
  {
   "cell_type": "markdown",
   "metadata": {},
   "source": [
    "_Replacing Html character codes with ASCII_"
   ]
  },
  {
   "cell_type": "code",
   "execution_count": 20,
   "metadata": {},
   "outputs": [],
   "source": [
    "html_cc = len(dataset_u)\n",
    "\n",
    "for i in range(0,html_cc):\n",
    "    dataset_u68 = html.unescape(dataset_u.iloc[i])\n",
    "    dataset_u.iloc[i] = dataset_u68\n"
   ]
  },
  {
   "cell_type": "markdown",
   "metadata": {},
   "source": [
    "### 3.2 Exploratory Analysis"
   ]
  },
  {
   "cell_type": "markdown",
   "metadata": {},
   "source": [
    "**_Determination Procedure_** <br><br>\n",
    "To find the tweets associated for each party, key words were searched. The words used were mainly twitter username or common hashtags because these are most likely to be common among the tweets. Then tweets were stored in one panda series and duplicates were deleted. This procedure is done for the five main parties of the 2015 Canadian Election.  "
   ]
  },
  {
   "cell_type": "markdown",
   "metadata": {},
   "source": [
    "_Liberal Party_"
   ]
  },
  {
   "cell_type": "code",
   "execution_count": 21,
   "metadata": {},
   "outputs": [],
   "source": [
    "x = dataset_u[dataset_u.str.contains('liberal')]\n",
    "len(x)\n",
    "\n",
    "y = dataset_u[dataset_u.str.contains('trudeau')]\n",
    "len(y)\n",
    "\n",
    "z = dataset_u[dataset_u.str.contains('justin')]\n",
    "len(z)\n",
    "\n",
    "x2 = dataset_u[dataset_u.str.contains('justintrudeau')]\n",
    "len(x2)\n",
    "\n",
    "liberal = pd.concat([x,y,z,x2]).drop_duplicates()\n",
    "L=len(liberal)"
   ]
  },
  {
   "cell_type": "markdown",
   "metadata": {},
   "source": [
    "The lines of code below store the index of the tweets in an array. The array created is used to find the sentiment analysis result and use that information for graphical presentation. "
   ]
  },
  {
   "cell_type": "code",
   "execution_count": 22,
   "metadata": {},
   "outputs": [],
   "source": [
    "party_L = []\n",
    "for i in range (0,len(dataset_u)):\n",
    "    try:\n",
    "        liberal.loc[i]\n",
    "        party_L.append(i)\n",
    "    except Exception:\n",
    "        pass"
   ]
  },
  {
   "cell_type": "markdown",
   "metadata": {},
   "source": [
    "_Conservative Party_"
   ]
  },
  {
   "cell_type": "code",
   "execution_count": 23,
   "metadata": {},
   "outputs": [],
   "source": [
    "x = dataset_u[dataset_u.str.contains('conservative')]\n",
    "len(x)\n",
    "\n",
    "y = dataset_u[dataset_u.str.contains('harper')]\n",
    "len(y)\n",
    "\n",
    "z = dataset_u[dataset_u.str.contains('@pmharper')]\n",
    "len(z)\n",
    "\n",
    "x2 = dataset_u[dataset_u.str.contains('stephenharper')]\n",
    "len(x2)\n",
    "\n",
    "conserative = pd.concat([x,y,z,x2]).drop_duplicates()\n",
    "C=len(conserative)"
   ]
  },
  {
   "cell_type": "code",
   "execution_count": 24,
   "metadata": {},
   "outputs": [],
   "source": [
    "party_C = []\n",
    "for i in range (0,len(dataset_u)):\n",
    "    try:\n",
    "        conserative.loc[i]\n",
    "        party_C.append(i)\n",
    "    except Exception:\n",
    "        pass"
   ]
  },
  {
   "cell_type": "markdown",
   "metadata": {},
   "source": [
    "_NDP Party_"
   ]
  },
  {
   "cell_type": "code",
   "execution_count": 25,
   "metadata": {},
   "outputs": [],
   "source": [
    "x = dataset_u[dataset_u.str.contains('#ndp')]\n",
    "len(x)\n",
    "\n",
    "y = dataset_u[dataset_u.str.contains('thomasmulcair')]\n",
    "len(y)\n",
    "\n",
    "z = dataset_u[dataset_u.str.contains('#mulcair')]\n",
    "len(z)\n",
    "\n",
    "x2 = dataset_u[dataset_u.str.contains('@ndp_hq')]\n",
    "len(x2)\n",
    "\n",
    "ndp = pd.concat([x,y,z,x2]).drop_duplicates()\n",
    "N = len(ndp)"
   ]
  },
  {
   "cell_type": "code",
   "execution_count": 26,
   "metadata": {},
   "outputs": [],
   "source": [
    "party_N = []\n",
    "for i in range (0,len(dataset_u)):\n",
    "    try:\n",
    "        ndp.loc[i]\n",
    "        party_N.append(i)\n",
    "    except Exception:\n",
    "        pass"
   ]
  },
  {
   "cell_type": "markdown",
   "metadata": {},
   "source": [
    "_Green Party_"
   ]
  },
  {
   "cell_type": "code",
   "execution_count": 27,
   "metadata": {},
   "outputs": [],
   "source": [
    "x = dataset_u[dataset_u.str.contains('greenparty')]\n",
    "len(x)\n",
    "\n",
    "y = dataset_u[dataset_u.str.contains('elizabethmay')]\n",
    "len(y)\n",
    "\n",
    "green_party = pd.concat([x,y]).drop_duplicates()\n",
    "G = len(green_party)"
   ]
  },
  {
   "cell_type": "code",
   "execution_count": 28,
   "metadata": {},
   "outputs": [],
   "source": [
    "party_G = []\n",
    "for i in range (0,len(dataset_u)):\n",
    "    try:\n",
    "        green_party.loc[i]\n",
    "        party_G.append(i)\n",
    "    except Exception:\n",
    "        pass"
   ]
  },
  {
   "cell_type": "markdown",
   "metadata": {},
   "source": [
    "_Bloc Quebecois Party_"
   ]
  },
  {
   "cell_type": "code",
   "execution_count": 29,
   "metadata": {},
   "outputs": [],
   "source": [
    "x = dataset_u[dataset_u.str.contains('bloc quebecois')]\n",
    "len(x)\n",
    "\n",
    "y = dataset_u[dataset_u.str.contains('duceppe')]\n",
    "len(y)\n",
    "\n",
    "z = dataset_u[dataset_u.str.contains('gillesduceppe')]\n",
    "len(z)\n",
    "\n",
    "bloc_quebec = pd.concat([x,y,z]).drop_duplicates()\n",
    "BQ = len(bloc_quebec)"
   ]
  },
  {
   "cell_type": "code",
   "execution_count": 30,
   "metadata": {},
   "outputs": [],
   "source": [
    "party_BQ = []\n",
    "for i in range (0,len(dataset_u)):\n",
    "    try:\n",
    "        bloc_quebec.loc[i]\n",
    "        party_BQ.append(i)\n",
    "    except Exception:\n",
    "        pass"
   ]
  },
  {
   "cell_type": "markdown",
   "metadata": {},
   "source": [
    "**_Graphical Analysis_**"
   ]
  },
  {
   "cell_type": "markdown",
   "metadata": {},
   "source": [
    "The figure represents the total number of tweets each party is mentioned in. This shows some key insight into the Canadian political landscape in 2015."
   ]
  },
  {
   "cell_type": "code",
   "execution_count": 31,
   "metadata": {},
   "outputs": [
    {
     "data": {
      "text/plain": [
       "<matplotlib.legend.Legend at 0x7f3868826f98>"
      ]
     },
     "execution_count": 31,
     "metadata": {},
     "output_type": "execute_result"
    },
    {
     "data": {
      "image/png": "[encoded data removed]",
      "text/plain": [
       "<matplotlib.figure.Figure at 0x7f3868a94fd0>"
      ]
     },
     "metadata": {},
     "output_type": "display_data"
    }
   ],
   "source": [
    "x = [1,2,3,4,5]\n",
    "x2 = ['L','C','N','G','BQ']\n",
    "\n",
    "plt.bar(x[0],L,label='Liberal',color='red')\n",
    "plt.bar(x[1],C,label='Conservative',color='blue')\n",
    "plt.bar(x[2],N,label='NDP',color='orange')\n",
    "plt.bar(x[3],G,label='Green Party',color='green')\n",
    "plt.bar(x[4],BQ,label='Bloc Quebecois',color='black')\n",
    "plt.xticks(x,x2)\n",
    "plt.xlabel('Election Parties')\n",
    "plt.ylabel('Number of Tweets')\n",
    "plt.title('Total Number of Tweets for Each Party')\n",
    "plt.legend()"
   ]
  },
  {
   "cell_type": "markdown",
   "metadata": {},
   "source": [
    "Figure 2: Total number of tweets for each party."
   ]
  },
  {
   "cell_type": "markdown",
   "metadata": {},
   "source": [
    "### 3.3 Model"
   ]
  },
  {
   "cell_type": "markdown",
   "metadata": {},
   "source": [
    "**_Model Preparation_**<br><br>\n",
    "The data is vectorized in the same method the classified tweets were. Once again, the stop words are filtered out during this process as well. The shape of the vector is also verified once again before the model is used for prediction"
   ]
  },
  {
   "cell_type": "code",
   "execution_count": 32,
   "metadata": {},
   "outputs": [
    {
     "data": {
      "text/plain": [
       "(3026, 109357)"
      ]
     },
     "execution_count": 32,
     "metadata": {},
     "output_type": "execute_result"
    }
   ],
   "source": [
    "y=bag_of_words.transform(dataset_u)\n",
    "\n",
    "y.shape"
   ]
  },
  {
   "cell_type": "markdown",
   "metadata": {},
   "source": [
    "**_Model Implementation_**<br><br>\n",
    "The model is now used to conduct the sentiment analysis."
   ]
  },
  {
   "cell_type": "code",
   "execution_count": 33,
   "metadata": {},
   "outputs": [
    {
     "name": "stdout",
     "output_type": "stream",
     "text": [
      "[4 4 4 ..., 4 4 4]\n"
     ]
    }
   ],
   "source": [
    "predict_unclass=model.predict(y)\n",
    "print(predict_unclass)"
   ]
  },
  {
   "cell_type": "markdown",
   "metadata": {},
   "source": [
    "### 3.4 Post Modeling Exploratory Analysis"
   ]
  },
  {
   "cell_type": "markdown",
   "metadata": {},
   "source": [
    "The following pie graph shows the ratio of positive tweets to negative tweets within the classified text file. Note pie graphs are used mainly because each iteration will produce slightly different results thus analyzing the ratio is better than exact numbers. "
   ]
  },
  {
   "cell_type": "code",
   "execution_count": 34,
   "metadata": {},
   "outputs": [
    {
     "data": {
      "text/plain": [
       "<matplotlib.legend.Legend at 0x7f38687b4b70>"
      ]
     },
     "execution_count": 34,
     "metadata": {},
     "output_type": "execute_result"
    },
    {
     "data": {
      "image/png": "[encoded data removed]",
      "text/plain": [
       "<matplotlib.figure.Figure at 0x7f38688954e0>"
      ]
     },
     "metadata": {},
     "output_type": "display_data"
    }
   ],
   "source": [
    "x = np.count_nonzero(predict_unclass == 4)\n",
    "\n",
    "y = np.count_nonzero(predict_unclass == 0)\n",
    "\n",
    "i = [x,y]\n",
    "ru = ['Positive','Negative']\n",
    "cols = ['green','black']\n",
    "\n",
    "plt.pie(i,labels=ru,colors=cols)\n",
    "plt.title('Positive Vs Negative Tweets in Unclassified Dataset')\n",
    "plt.legend()"
   ]
  },
  {
   "cell_type": "markdown",
   "metadata": {},
   "source": [
    "Figure 3: Landscape of positive tweets vs negative tweets in unclassified dataset"
   ]
  },
  {
   "cell_type": "markdown",
   "metadata": {},
   "source": [
    "Figures 4 - 6 are pie graphs that represent the ratio of positive to negative tweets for Liberal, Conservative and NDP. The other two parties are omitted because of their relatively smaller number of total tweets."
   ]
  },
  {
   "cell_type": "code",
   "execution_count": 35,
   "metadata": {},
   "outputs": [
    {
     "data": {
      "text/plain": [
       "<matplotlib.legend.Legend at 0x7f3868799048>"
      ]
     },
     "execution_count": 35,
     "metadata": {},
     "output_type": "execute_result"
    },
    {
     "data": {
      "image/png": "[encoded data removed]",
      "text/plain": [
       "<matplotlib.figure.Figure at 0x7f38687ae518>"
      ]
     },
     "metadata": {},
     "output_type": "display_data"
    }
   ],
   "source": [
    "l_L = predict_unclass[party_L]\n",
    "\n",
    "x_L = np.count_nonzero(l_L == 4)\n",
    "\n",
    "y_L = np.count_nonzero(l_L == 0)\n",
    "\n",
    "i = [x_L,y_L]\n",
    "ru = ['Positive','Negative']\n",
    "cols = ['red','black']\n",
    "\n",
    "plt.pie(i,labels=ru,colors=cols)\n",
    "plt.title('Positive Vs Negative Tweets for Liberal Party')\n",
    "plt.legend()"
   ]
  },
  {
   "cell_type": "markdown",
   "metadata": {},
   "source": [
    "Figure 4: Ratio of positive to negative tweets for Liberal Party"
   ]
  },
  {
   "cell_type": "code",
   "execution_count": 36,
   "metadata": {},
   "outputs": [
    {
     "data": {
      "text/plain": [
       "<matplotlib.legend.Legend at 0x7f38686f24e0>"
      ]
     },
     "execution_count": 36,
     "metadata": {},
     "output_type": "execute_result"
    },
    {
     "data": {
      "image/png": "[encoded data removed]",
      "text/plain": [
       "<matplotlib.figure.Figure at 0x7f3868799860>"
      ]
     },
     "metadata": {},
     "output_type": "display_data"
    }
   ],
   "source": [
    "l_C = predict_unclass[party_C]\n",
    "\n",
    "x_C = np.count_nonzero(l_C == 4)\n",
    "\n",
    "y_C = np.count_nonzero(l_C == 0)\n",
    "\n",
    "i = [x_C,y_C]\n",
    "ru = ['Positive','Negative']\n",
    "cols = ['blue','black']\n",
    "\n",
    "plt.pie(i,labels=ru,colors=cols)\n",
    "plt.title('Positive Vs Negative Tweets for Conservative Party')\n",
    "plt.legend()"
   ]
  },
  {
   "cell_type": "markdown",
   "metadata": {},
   "source": [
    "Figure 5: Ratio of positive to negative tweets for Conservative Party"
   ]
  },
  {
   "cell_type": "code",
   "execution_count": 37,
   "metadata": {},
   "outputs": [
    {
     "data": {
      "text/plain": [
       "<matplotlib.legend.Legend at 0x7f38686ce978>"
      ]
     },
     "execution_count": 37,
     "metadata": {},
     "output_type": "execute_result"
    },
    {
     "data": {
      "image/png": "[encoded data removed]",
      "text/plain": [
       "<matplotlib.figure.Figure at 0x7f38686f2160>"
      ]
     },
     "metadata": {},
     "output_type": "display_data"
    }
   ],
   "source": [
    "l_N = predict_unclass[party_N]\n",
    "\n",
    "x_N = np.count_nonzero(l_N == 4)\n",
    "\n",
    "y_N = np.count_nonzero(l_N == 0)\n",
    "\n",
    "i = [x_N,y_N]\n",
    "ru = ['Positive','Negative']\n",
    "cols = ['orange','black']\n",
    "\n",
    "plt.pie(i,labels=ru,colors=cols)\n",
    "plt.title('Positive Vs Negative Tweets for NDP Party')\n",
    "plt.legend()"
   ]
  },
  {
   "cell_type": "markdown",
   "metadata": {},
   "source": [
    "Figure 6: Ratio of positive to negative tweets for NDP Party"
   ]
  },
  {
   "cell_type": "markdown",
   "metadata": {},
   "source": [
    "Evidently, the figure below shows the total number of positive tweets for each of the three parties."
   ]
  },
  {
   "cell_type": "code",
   "execution_count": 38,
   "metadata": {
    "scrolled": true
   },
   "outputs": [
    {
     "data": {
      "text/plain": [
       "<matplotlib.legend.Legend at 0x7f386862ca58>"
      ]
     },
     "execution_count": 38,
     "metadata": {},
     "output_type": "execute_result"
    },
    {
     "data": {
      "image/png": "[encoded data removed]",
      "text/plain": [
       "<matplotlib.figure.Figure at 0x7f3868728048>"
      ]
     },
     "metadata": {},
     "output_type": "display_data"
    }
   ],
   "source": [
    "i = [x_L,x_C,x_N]\n",
    "ru = ['Liberal','Conservative','NDP']\n",
    "cols = ['red','blue','orange']\n",
    "\n",
    "plt.pie(i,labels=ru,colors=cols)\n",
    "plt.title('Total Number of Positive Tweets')\n",
    "plt.legend(loc=2)"
   ]
  },
  {
   "cell_type": "markdown",
   "metadata": {},
   "source": [
    "Figure 7: Total number of positive tweets for Liberal, Conservative and NDP"
   ]
  },
  {
   "cell_type": "markdown",
   "metadata": {},
   "source": [
    "### 3.5 Discussion"
   ]
  },
  {
   "cell_type": "markdown",
   "metadata": {
    "collapsed": true
   },
   "source": [
    "**Question:** What can public opinion on Twitter tell us about the Canadian political landscape in 2015?<br><br>\n",
    "\n",
    "**Answer:**<br>\n",
    "From the sentiment analysis conducted on the tweets during the Canadian elections a lot could be concluded about the political landscape in 2015. Initially, a lot was evident from just counting the total number of tweets for each party. Figure 2 displays that there were only three major parties dominating the landscape and they were the Liberal, Conservative and NDP parties. The Green party and Bloc Quebecois were not even on the landscape. However, the total number of tweets does not determine if the public opinion is negative or positive, but Figure 3 does provide the insight that majority of the tweets should be of positive public opinion. Figures 4-6 agree with this finding and help determine the details of the landscape. These figures show that Liberal and NDP parties had a larger ratio of positive tweets respective to their negative tweets when compared to the Conservative’s ratio. Therefore, even though the Conservative party had the second most total tweets, they were not receiving the same amount of positive support as the other two. Clearly, from the figures the Liberals were the clear leader in terms of ratio and NDP was close behind them. The last figure (Figure 7) concludes that between the three major parties Liberal’s had the most positive opinion among the population. Followed by the Conservatives despite having received the most negativity. Thus, in conclusion the political landscape in 2015 was made up of three parties and the Liberals were in charge followed by the Conservatives and NDP. However, the Conservative party was at higher risk of losing the number of positive support whereas NDP and Liberal were at a far lower risk. "
   ]
  }
 ],
 "metadata": {
  "kernelspec": {
   "display_name": "Python 2",
   "language": "python",
   "name": "python2"
  },
  "language_info": {
   "codemirror_mode": {
    "name": "ipython",
    "version": 2
   },
   "file_extension": ".py",
   "mimetype": "text/x-python",
   "name": "python",
   "nbconvert_exporter": "python",
   "pygments_lexer": "ipython2",
   "version": "2.7.13"
  },
  "widgets": {
   "state": {},
   "version": "1.1.2"
  }
 },
 "nbformat": 4,
 "nbformat_minor": 1
}
