{
 "cells": [
  {
   "cell_type": "markdown",
   "metadata": {},
   "source": [
    "# Assignment 2\n",
    "MIE1642 Intro. to Data Science <br> \n",
    "By: Rahul Rohatgi <br>\n",
    "Date: Dec 11,2017 <br>"
   ]
  },
  {
   "cell_type": "markdown",
   "metadata": {},
   "source": [
    "## 1.0 Importing Libraries"
   ]
  },
  {
   "cell_type": "markdown",
   "metadata": {},
   "source": [
    "The following are the libraries used to accomplish the analysis."
   ]
  },
  {
   "cell_type": "code",
   "execution_count": 1,
   "metadata": {
    "collapsed": false
   },
   "outputs": [
    {
     "name": "stderr",
     "output_type": "stream",
     "text": [
      "/usr/local/lib/python3.5/dist-packages/sklearn/cross_validation.py:41: DeprecationWarning: This module was deprecated in version 0.18 in favor of the model_selection module into which all the refactored classes and functions are moved. Also note that the interface of the new CV iterators are different from that of this module. This module will be removed in 0.20.\n",
      "  \"This module will be removed in 0.20.\", DeprecationWarning)\n",
      "/usr/local/lib/python3.5/dist-packages/sklearn/grid_search.py:42: DeprecationWarning: This module was deprecated in version 0.18 in favor of the model_selection module into which all the refactored classes and functions are moved. This module will be removed in 0.20.\n",
      "  DeprecationWarning)\n"
     ]
    }
   ],
   "source": [
    "import numpy as np\n",
    "import pandas as pd\n",
    "import matplotlib.pyplot as plt\n",
    "\n",
    "%matplotlib inline\n",
    "\n",
    "from sklearn.decomposition import PCA\n",
    "from sklearn.linear_model import LogisticRegression\n",
    "from sklearn import metrics\n",
    "from sklearn.cross_validation import cross_val_score\n",
    "from sklearn.neighbors import KNeighborsClassifier\n",
    "from sklearn.ensemble import RandomForestClassifier\n",
    "from sklearn.ensemble import GradientBoostingClassifier\n",
    "from sklearn.grid_search import GridSearchCV\n",
    "\n"
   ]
  },
  {
   "cell_type": "markdown",
   "metadata": {},
   "source": [
    "## 2.0 Data Cleaning"
   ]
  },
  {
   "cell_type": "markdown",
   "metadata": {},
   "source": [
    "First the income data is imported using pandas. Then the length of the data is checked which will be used later to compare with.\n",
    "<br><br>\n",
    "_Note that for the file to be read it must be present within the workbench with the exact same name._"
   ]
  },
  {
   "cell_type": "code",
   "execution_count": 2,
   "metadata": {
    "collapsed": true
   },
   "outputs": [],
   "source": [
    "dataset = pd.read_csv('income-training.csv')\n",
    "#dataset.head()"
   ]
  },
  {
   "cell_type": "code",
   "execution_count": 3,
   "metadata": {
    "collapsed": false
   },
   "outputs": [
    {
     "data": {
      "text/plain": [
       "24421"
      ]
     },
     "execution_count": 3,
     "metadata": {},
     "output_type": "execute_result"
    }
   ],
   "source": [
    "len(dataset)"
   ]
  },
  {
   "cell_type": "markdown",
   "metadata": {},
   "source": [
    "### 2.1 Dealing With Missing Values"
   ]
  },
  {
   "cell_type": "markdown",
   "metadata": {},
   "source": [
    "The missing values are removed from the dataset. However, there are special cases for Occupation, WorkClass, MaritalStatus, Relationship, Education, and EducationLvl. As seen in the code below if both combination are missing together the data sample is  dropped but if just one is missing then it is not. This is because one category can help determine the missing value of the other. For example, if MartialStatus says married-civ-spouse then they can be either husband or wife and the mode value can be used here. These are the special cases, but for the other columns if they are blank there is no way to identify the results therefore they are dropped.  "
   ]
  },
  {
   "cell_type": "code",
   "execution_count": 4,
   "metadata": {
    "collapsed": false
   },
   "outputs": [],
   "source": [
    "dataset = dataset.dropna(subset=[\"Occupation\",\"WorkClass\"],thresh=1)\n",
    "dataset = dataset.dropna(subset=[\"MaritalStatus\",\"Relationship\"],thresh=1)\n",
    "dataset = dataset.dropna(subset=[\"Education\",\"EducationLvl\"],thresh=1)\n",
    "dataset = dataset.dropna(subset=[\"Age\"])\n",
    "dataset = dataset.dropna(subset=[\"FinalWeight\"])\n",
    "dataset = dataset.dropna(subset=[\"Race\"])\n",
    "dataset = dataset.dropna(subset=[\"Sex\"])\n",
    "dataset = dataset.dropna(subset=[\"CapitalGain\"])\n",
    "dataset = dataset.dropna(subset=[\"CapitalLoss\"])\n",
    "dataset = dataset.dropna(subset=[\"HoursPerWeek\"])\n",
    "dataset = dataset.dropna(subset=[\"NativeCountry\"])\n",
    "dataset = dataset.dropna(subset=[\"IncomeBracket\"])"
   ]
  },
  {
   "cell_type": "markdown",
   "metadata": {},
   "source": [
    "The reason there are missing values is because the information may not have been given by the person or they do not fall into the options available for the category. Note that reasons for not giving information can vary.<br><br> Deleting the sample might affect the overall analysis negatively if too many samples are dropped but since the dataset is so large this is not a huge issue. As well, guessing for categories value may result in outliers that can affect the models being used. For example, if the FinalWeight is missing and that is taken as the mean well that may be completely off. This column is based upon demographic background which has multiple conditions and taking the average will give a false story. It is like the example of the average water being 3ft deep but there is large dip of 10ft in the middle.  The same can be said for all the other columns. Thus, it is better to remove the sample than to 'guess' without knowledge when the dataset is so large. "
   ]
  },
  {
   "cell_type": "markdown",
   "metadata": {},
   "source": [
    "_Note below even the special cases are dropped as well._ "
   ]
  },
  {
   "cell_type": "code",
   "execution_count": 5,
   "metadata": {
    "collapsed": true
   },
   "outputs": [],
   "source": [
    "dataset = dataset.dropna(subset=[\"Occupation\"])\n",
    "dataset = dataset.dropna(subset=[\"WorkClass\"])\n",
    "dataset = dataset.dropna(subset=[\"MaritalStatus\"])\n",
    "dataset = dataset.dropna(subset=[\"Relationship\"])\n",
    "dataset = dataset.dropna(subset=[\"Education\"])\n",
    "dataset = dataset.dropna(subset=[\"EducationLvl\"])"
   ]
  },
  {
   "cell_type": "code",
   "execution_count": 6,
   "metadata": {
    "collapsed": false
   },
   "outputs": [
    {
     "data": {
      "text/plain": [
       "22654"
      ]
     },
     "execution_count": 6,
     "metadata": {},
     "output_type": "execute_result"
    }
   ],
   "source": [
    "len(dataset)"
   ]
  },
  {
   "cell_type": "markdown",
   "metadata": {},
   "source": [
    "Above result is just the number of samples left after dropping stage is found. This is compared with the first length found. Since there is a lot of data samples still left, dropping the samples in the above phase is justifiable."
   ]
  },
  {
   "cell_type": "markdown",
   "metadata": {},
   "source": [
    "### 2.2 Encoding the Dataset"
   ]
  },
  {
   "cell_type": "markdown",
   "metadata": {},
   "source": [
    "In order to encode the data type of each column is required. Then it is possible to determine what type of encoding should be done."
   ]
  },
  {
   "cell_type": "code",
   "execution_count": 7,
   "metadata": {
    "collapsed": false
   },
   "outputs": [
    {
     "data": {
      "text/plain": [
       "Age               int64\n",
       "WorkClass        object\n",
       "FinalWeight       int64\n",
       "Education        object\n",
       "EducationLvl      int64\n",
       "MaritalStatus    object\n",
       "Occupation       object\n",
       "Relationship     object\n",
       "Race             object\n",
       "Sex              object\n",
       "CapitalGain       int64\n",
       "CapitalLoss       int64\n",
       "HoursPerWeek      int64\n",
       "NativeCountry    object\n",
       "IncomeBracket    object\n",
       "dtype: object"
      ]
     },
     "execution_count": 7,
     "metadata": {},
     "output_type": "execute_result"
    }
   ],
   "source": [
    "dataset.dtypes"
   ]
  },
  {
   "cell_type": "markdown",
   "metadata": {},
   "source": [
    "Below is the code for encoding the objects. All the columns in the code below are changed to categories and encoded to give a value for each type of option within the column. <br> I.e. WorkClass Options: <br> Private = 0 <br> Local-gov = 1 <br> State-gov = 2 <br> etc. <br> Note the following exact numbers are not used. <br><br> This particular method was used because there are more than two options for most so True/False and 0/1 can not be used. Also for machine learning everything has to be represented in numbers. "
   ]
  },
  {
   "cell_type": "code",
   "execution_count": 8,
   "metadata": {
    "collapsed": false,
    "scrolled": true
   },
   "outputs": [],
   "source": [
    "dataset[\"WorkClass\"] = dataset[\"WorkClass\"].astype('category')\n",
    "dataset[\"WorkClassLvl\"] = dataset[\"WorkClass\"].astype('category').cat.codes\n",
    "dataset[\"MaritalStatus\"] = dataset[\"MaritalStatus\"].astype('category')\n",
    "dataset[\"MaritalStatusLvl\"] = dataset[\"MaritalStatus\"].astype('category').cat.codes\n",
    "dataset[\"Occupation\"] = dataset[\"Occupation\"].astype('category')\n",
    "dataset[\"OccupationLvl\"] = dataset[\"Occupation\"].astype('category').cat.codes\n",
    "dataset[\"Relationship\"] = dataset[\"Relationship\"].astype('category')\n",
    "dataset[\"RelationshipLvl\"] = dataset[\"Relationship\"].astype('category').cat.codes\n",
    "dataset[\"Race\"] = dataset[\"Race\"].astype('category')\n",
    "dataset[\"RaceLvl\"] = dataset[\"Race\"].astype('category').cat.codes\n",
    "dataset[\"Sex\"] = dataset[\"Sex\"].astype('category')\n",
    "dataset[\"SexLvl\"] = dataset[\"Sex\"].astype('category').cat.codes\n",
    "dataset[\"NativeCountry\"] = dataset[\"NativeCountry\"].astype('category')\n",
    "dataset[\"NativeCountryLvl\"] = dataset[\"NativeCountry\"].astype('category').cat.codes\n",
    "dataset[\"IncomeBracketLvl\"] = dataset[\"IncomeBracket\"].astype('category').cat.codes #Note that 50-100k = 0, <50k = 1, >100k = 2"
   ]
  },
  {
   "cell_type": "markdown",
   "metadata": {},
   "source": [
    "To clean up the dataset Age and HoursPerWeek which are continuous types are put into groups. This was done to reduce the number of points for the machine learning part and for analysis of the data to be easier. <br><br> For the Age groups the first set is taken to account for post secondary education and the last group is post retirement. Similarly, the HoursPerWeek group were taken for 20 hours interval. Note that these groups were created with the aid of the information of the max, and min values."
   ]
  },
  {
   "cell_type": "code",
   "execution_count": 9,
   "metadata": {
    "collapsed": false
   },
   "outputs": [],
   "source": [
    "dataset['AgeLvl'] = pd.cut(dataset['Age'], bins=[17,23,29,39,49,64,np.inf], labels=[0,1,2,3,4,5])\n",
    "dataset['HoursPerWeekLvl'] = pd.cut(dataset['HoursPerWeek'], bins=[0,20,40,60,80,np.inf], labels=[0,1,2,3,4])"
   ]
  },
  {
   "cell_type": "markdown",
   "metadata": {},
   "source": [
    "This concludes the main data cleaning stage for the dataset. Note more data cleaning is done later in the analysis for tasks such as feature selection. "
   ]
  },
  {
   "cell_type": "markdown",
   "metadata": {},
   "source": [
    "## 3.0 Exploratory Data Analysis"
   ]
  },
  {
   "cell_type": "markdown",
   "metadata": {},
   "source": [
    "### 3.1 Part A Graphs"
   ]
  },
  {
   "cell_type": "markdown",
   "metadata": {
    "collapsed": true
   },
   "source": [
    "####  3.1.1 Graph 1: Age Groups vs Income Bracket"
   ]
  },
  {
   "cell_type": "markdown",
   "metadata": {},
   "source": [
    "To create the graph the following procedure was used. First only one income bracket level is extracted from the dataset. Next each age group is extracted from that new dataset. Then the number of samples for each is found which, is used to create the bar graph. "
   ]
  },
  {
   "cell_type": "code",
   "execution_count": 10,
   "metadata": {
    "collapsed": false
   },
   "outputs": [],
   "source": [
    "Age50 = dataset[dataset.IncomeBracket == '<50K']\n",
    "Age50_17_23 = Age50[Age50.AgeLvl == 0]\n",
    "Age50_24_29 = Age50[Age50.AgeLvl == 1]\n",
    "Age50_30_39 = Age50[Age50.AgeLvl == 2]\n",
    "Age50_40_49 = Age50[Age50.AgeLvl == 3]\n",
    "Age50_50_64 = Age50[Age50.AgeLvl == 4]\n",
    "Age50_65 = Age50[Age50.AgeLvl == 5]\n",
    "Age50_17_23_l = len(Age50_17_23)\n",
    "Age50_24_29_l = len(Age50_24_29)\n",
    "Age50_30_39_l = len(Age50_30_39)\n",
    "Age50_40_49_l = len(Age50_40_49)\n",
    "Age50_50_64_l = len(Age50_50_64)\n",
    "Age50_65_l = len(Age50_65)"
   ]
  },
  {
   "cell_type": "code",
   "execution_count": 11,
   "metadata": {
    "collapsed": false
   },
   "outputs": [],
   "source": [
    "Age50_100 = dataset[dataset.IncomeBracket == '50-100K']\n",
    "Age50_100_17_23 = Age50_100[Age50_100.AgeLvl == 0]\n",
    "Age50_100_24_29 = Age50_100[Age50_100.AgeLvl == 1]\n",
    "Age50_100_30_39 = Age50_100[Age50_100.AgeLvl == 2]\n",
    "Age50_100_40_49 = Age50_100[Age50_100.AgeLvl == 3]\n",
    "Age50_100_50_64 = Age50_100[Age50_100.AgeLvl == 4]\n",
    "Age50_100_65 = Age50_100[Age50_100.AgeLvl == 5]\n",
    "Age50_100_17_23_l = len(Age50_100_17_23)\n",
    "Age50_100_24_29_l = len(Age50_100_24_29)\n",
    "Age50_100_30_39_l = len(Age50_100_30_39)\n",
    "Age50_100_40_49_l = len(Age50_100_40_49)\n",
    "Age50_100_50_64_l = len(Age50_100_50_64)\n",
    "Age50_100_65_l = len(Age50_100_65)"
   ]
  },
  {
   "cell_type": "code",
   "execution_count": 12,
   "metadata": {
    "collapsed": false
   },
   "outputs": [],
   "source": [
    "Age100 = dataset[dataset.IncomeBracket == '>100K']\n",
    "Age100_17_23 = Age100[Age100.AgeLvl == 0]\n",
    "Age100_24_29 = Age100[Age100.AgeLvl == 1]\n",
    "Age100_30_39 = Age100[Age100.AgeLvl == 2]\n",
    "Age100_40_49 = Age100[Age100.AgeLvl == 3]\n",
    "Age100_50_64 = Age100[Age100.AgeLvl == 4]\n",
    "Age100_65 = Age100[Age100.AgeLvl == 5]\n",
    "Age100_17_23_l = len(Age100_17_23)\n",
    "Age100_24_29_l = len(Age100_24_29)\n",
    "Age100_30_39_l = len(Age100_30_39)\n",
    "Age100_40_49_l = len(Age100_40_49)\n",
    "Age100_50_64_l = len(Age100_50_64)\n",
    "Age100_65_l = len(Age100_65)"
   ]
  },
  {
   "cell_type": "code",
   "execution_count": 13,
   "metadata": {
    "collapsed": false
   },
   "outputs": [
    {
     "data": {
      "text/plain": [
       "<matplotlib.legend.Legend at 0x7f131cb66390>"
      ]
     },
     "execution_count": 13,
     "metadata": {},
     "output_type": "execute_result"
    },
    {
     "data": {
      "image/png": "[encoded data removed]",
      "text/plain": [
       "<matplotlib.figure.Figure at 0x7f131cc9bc88>"
      ]
     },
     "metadata": {},
     "output_type": "display_data"
    }
   ],
   "source": [
    "x = [1,2,3,4,5,6,7,8,9,10,11,12,13,14,15,16,17,18]\n",
    "x2 = ['','17-23','','','24-29','','','30-39',' ','','40-49','','','50-64','','','65+''',]\n",
    "\n",
    "plt.bar(x[0],Age50_17_23_l,label='<50K',color='red')\n",
    "plt.bar(x[1],Age50_100_17_23_l,label='50-100K',color='blue')\n",
    "plt.bar(x[2],Age100_17_23_l,label='>100K',color='green')\n",
    "plt.bar(x[3],Age50_24_29_l,color='red')\n",
    "plt.bar(x[4],Age50_100_24_29_l,color='blue')\n",
    "plt.bar(x[5],Age100_24_29_l,color='green')\n",
    "plt.bar(x[6],Age50_30_39_l,color='red')\n",
    "plt.bar(x[7],Age50_100_30_39_l,color='blue')\n",
    "plt.bar(x[8],Age100_30_39_l,color='green')\n",
    "plt.bar(x[9],Age50_40_49_l,color='red')\n",
    "plt.bar(x[10],Age50_100_40_49_l,color='blue')\n",
    "plt.bar(x[11],Age100_40_49_l,color='green')\n",
    "plt.bar(x[12],Age50_50_64_l,color='red')\n",
    "plt.bar(x[13],Age50_100_50_64_l,color='blue')\n",
    "plt.bar(x[14],Age100_50_64_l,color='green')\n",
    "plt.bar(x[15],Age50_65_l,color='red')\n",
    "plt.bar(x[16],Age50_100_65_l,color='blue')\n",
    "plt.bar(x[17],Age100_65_l,color='green')\n",
    "plt.xticks(x,x2)\n",
    "plt.xlabel('Age Groups')\n",
    "plt.ylabel('Income Bracket')\n",
    "plt.title('Age Groups vs Income Bracket')\n",
    "plt.legend()"
   ]
  },
  {
   "cell_type": "markdown",
   "metadata": {},
   "source": [
    "The trend from this figure shows that most of the income brackets are less than 50k. This means that most likely the classifier will predict a income bracket of less than 50k. As well, the figure shows that middle age people are the ones that have a higher change of being in another bracket. This information can be helpful in classifying other samples. For example, if the new sample is of age 35 then the algorithm knows that the probability that the person makes less than 50k is not the same as someone who is 21. With this information it can be concluded that Age can be a useful feature.  "
   ]
  },
  {
   "cell_type": "markdown",
   "metadata": {},
   "source": [
    "#### 3.1.2 Graph 2: Hours Per Week vs Income Bracket"
   ]
  },
  {
   "cell_type": "markdown",
   "metadata": {},
   "source": [
    "To create the graph the following procedure was used. First only one income bracket level is extracted from the dataset. Next each hours-per-week group is extracted from that new dataset. Then the number of samples for each is found which, is used to create the bar graph. "
   ]
  },
  {
   "cell_type": "code",
   "execution_count": 14,
   "metadata": {
    "collapsed": true
   },
   "outputs": [],
   "source": [
    "HoursPerWeek50 = dataset[dataset.IncomeBracket == '<50K']\n",
    "HoursPerWeek50_0_20 = HoursPerWeek50[HoursPerWeek50.HoursPerWeekLvl == 0]\n",
    "HoursPerWeek50_21_40 = HoursPerWeek50[HoursPerWeek50.HoursPerWeekLvl == 1]\n",
    "HoursPerWeek50_41_60 = HoursPerWeek50[HoursPerWeek50.HoursPerWeekLvl == 2]\n",
    "HoursPerWeek50_61_80 = HoursPerWeek50[HoursPerWeek50.HoursPerWeekLvl == 3]\n",
    "HoursPerWeek50_80 = HoursPerWeek50[HoursPerWeek50.HoursPerWeekLvl == 4]\n",
    "HoursPerWeek50_0_20_l = len(HoursPerWeek50_0_20)\n",
    "HoursPerWeek50_21_40_l = len(HoursPerWeek50_21_40 )\n",
    "HoursPerWeek50_41_60_l = len(HoursPerWeek50_41_60)\n",
    "HoursPerWeek50_61_80_l = len(HoursPerWeek50_61_80)\n",
    "HoursPerWeek50_80_l = len(HoursPerWeek50_80)"
   ]
  },
  {
   "cell_type": "code",
   "execution_count": 15,
   "metadata": {
    "collapsed": true
   },
   "outputs": [],
   "source": [
    "HoursPerWeek50_100 = dataset[dataset.IncomeBracket == '50-100K']\n",
    "HoursPerWeek50_100_0_20 = HoursPerWeek50_100[HoursPerWeek50_100.HoursPerWeekLvl == 0]\n",
    "HoursPerWeek50_100_21_40 = HoursPerWeek50_100[HoursPerWeek50_100.HoursPerWeekLvl == 1]\n",
    "HoursPerWeek50_100_41_60 = HoursPerWeek50_100[HoursPerWeek50_100.HoursPerWeekLvl == 2]\n",
    "HoursPerWeek50_100_61_80 = HoursPerWeek50_100[HoursPerWeek50_100.HoursPerWeekLvl == 3]\n",
    "HoursPerWeek50_100_80 = HoursPerWeek50_100[HoursPerWeek50_100.HoursPerWeekLvl == 4]\n",
    "HoursPerWeek50_100_0_20_l = len(HoursPerWeek50_100_0_20)\n",
    "HoursPerWeek50_100_21_40_l = len(HoursPerWeek50_100_21_40 )\n",
    "HoursPerWeek50_100_41_60_l = len(HoursPerWeek50_100_41_60)\n",
    "HoursPerWeek50_100_61_80_l = len(HoursPerWeek50_100_61_80)\n",
    "HoursPerWeek50_100_80_l = len(HoursPerWeek50_100_80)"
   ]
  },
  {
   "cell_type": "code",
   "execution_count": 16,
   "metadata": {
    "collapsed": true
   },
   "outputs": [],
   "source": [
    "HoursPerWeek100 = dataset[dataset.IncomeBracket == '>100K']\n",
    "HoursPerWeek100_0_20 = HoursPerWeek100[HoursPerWeek100.HoursPerWeekLvl == 0]\n",
    "HoursPerWeek100_21_40 = HoursPerWeek100[HoursPerWeek100.HoursPerWeekLvl == 1]\n",
    "HoursPerWeek100_41_60 = HoursPerWeek100[HoursPerWeek100.HoursPerWeekLvl == 2]\n",
    "HoursPerWeek100_61_80 = HoursPerWeek100[HoursPerWeek100.HoursPerWeekLvl == 3]\n",
    "HoursPerWeek100_80 = HoursPerWeek100[HoursPerWeek100.HoursPerWeekLvl == 4]\n",
    "HoursPerWeek100_0_20_l = len(HoursPerWeek100_0_20)\n",
    "HoursPerWeek100_21_40_l = len(HoursPerWeek100_21_40 )\n",
    "HoursPerWeek100_41_60_l = len(HoursPerWeek100_41_60)\n",
    "HoursPerWeek100_61_80_l = len(HoursPerWeek100_61_80)\n",
    "HoursPerWeek100_80_l = len(HoursPerWeek100_80)"
   ]
  },
  {
   "cell_type": "code",
   "execution_count": 17,
   "metadata": {
    "collapsed": false
   },
   "outputs": [
    {
     "data": {
      "text/plain": [
       "<matplotlib.legend.Legend at 0x7f13132b22e8>"
      ]
     },
     "execution_count": 17,
     "metadata": {},
     "output_type": "execute_result"
    },
    {
     "data": {
      "image/png": "[encoded data removed]",
      "text/plain": [
       "<matplotlib.figure.Figure at 0x7f13132d8a90>"
      ]
     },
     "metadata": {},
     "output_type": "display_data"
    }
   ],
   "source": [
    "x = [1,2,3,4,5,6,7,8,9,10,11,12,13,14,15]\n",
    "x2 = ['','0-20','','','21-40','','','41-60',' ','','61-80','','','81+']\n",
    "\n",
    "plt.bar(x[0],HoursPerWeek50_0_20_l,label='<50K',color='red')\n",
    "plt.bar(x[1],HoursPerWeek50_100_0_20_l,label='50-100K',color='blue')\n",
    "plt.bar(x[2],HoursPerWeek100_0_20_l,label='>100K',color='green')\n",
    "plt.bar(x[3],HoursPerWeek50_21_40_l,color='red')\n",
    "plt.bar(x[4],HoursPerWeek50_100_21_40_l,color='blue')\n",
    "plt.bar(x[5],HoursPerWeek100_21_40_l,color='green')\n",
    "plt.bar(x[6],HoursPerWeek50_41_60_l,color='red')\n",
    "plt.bar(x[7],HoursPerWeek50_100_41_60_l,color='blue')\n",
    "plt.bar(x[8],HoursPerWeek100_41_60_l,color='green')\n",
    "plt.bar(x[9],HoursPerWeek50_61_80_l,color='red')\n",
    "plt.bar(x[10],HoursPerWeek50_100_61_80_l,color='blue')\n",
    "plt.bar(x[11],HoursPerWeek100_61_80_l,color='green')\n",
    "plt.bar(x[12],HoursPerWeek50_80_l,color='red')\n",
    "plt.bar(x[13],HoursPerWeek50_100_80_l,color='blue')\n",
    "plt.bar(x[14],HoursPerWeek100_80_l,color='green')\n",
    "plt.xticks(x,x2)\n",
    "plt.xlabel('Hours Per Week')\n",
    "plt.ylabel('Income Bracket')\n",
    "plt.title('Hours Per Week vs Income Bracket')\n",
    "plt.legend()"
   ]
  },
  {
   "cell_type": "markdown",
   "metadata": {},
   "source": [
    "The figure above shows that majority of the people work between 21-60 hours and the majority of the people working between 21-40 hours get paid below 50k. It also shows that increased hour from this time does not affect the number of people making more than 50k. This trend would help classify samples with lows hours per week because it shows that there is a great chance that the person will fall within the less than 50k if they do not work as many hours. "
   ]
  },
  {
   "cell_type": "markdown",
   "metadata": {},
   "source": [
    "#### 3.1.3 Graph 3: Final Weight vs Income Bracket"
   ]
  },
  {
   "cell_type": "markdown",
   "metadata": {},
   "source": [
    "To create the graph the following procedure was used. First the FinalWeight is grouped together in the same fashion as Age and HoursPerWeek. The groupings are taken based on the min and max value found of the data and then some trail and error. Secondly to create the graph only one income bracket level is extracted from the dataset. Next each final-weight group is extracted from that new dataset. Then the number of samples for each is found which is used to create the bar graph. "
   ]
  },
  {
   "cell_type": "code",
   "execution_count": 18,
   "metadata": {
    "collapsed": false
   },
   "outputs": [],
   "source": [
    "dataset['FinalWeightLvl'] = pd.cut(dataset['FinalWeight'], \n",
    "                                   bins=[0,150000,300000,450000,600000,1000000,np.inf], labels=[0,1,2,3,4,5])"
   ]
  },
  {
   "cell_type": "code",
   "execution_count": 19,
   "metadata": {
    "collapsed": false
   },
   "outputs": [],
   "source": [
    "FinalWeight50 = dataset[dataset.IncomeBracket == '<50K']\n",
    "FinalWeight50_1 = FinalWeight50[FinalWeight50.FinalWeightLvl == 0]\n",
    "FinalWeight50_2 = FinalWeight50[FinalWeight50.FinalWeightLvl == 1]\n",
    "FinalWeight50_3 = FinalWeight50[FinalWeight50.FinalWeightLvl == 2]\n",
    "FinalWeight50_4 = FinalWeight50[FinalWeight50.FinalWeightLvl == 3]\n",
    "FinalWeight50_5 = FinalWeight50[FinalWeight50.FinalWeightLvl == 4]\n",
    "FinalWeight50_6 = FinalWeight50[FinalWeight50.FinalWeightLvl == 5]\n",
    "FinalWeight50_1_l = len(FinalWeight50_1)\n",
    "FinalWeight50_2_l = len(FinalWeight50_2)\n",
    "FinalWeight50_3_l = len(FinalWeight50_3)\n",
    "FinalWeight50_4_l = len(FinalWeight50_4)\n",
    "FinalWeight50_5_l = len(FinalWeight50_5)\n",
    "FinalWeight50_6_l = len(FinalWeight50_6)"
   ]
  },
  {
   "cell_type": "code",
   "execution_count": 20,
   "metadata": {
    "collapsed": true
   },
   "outputs": [],
   "source": [
    "FinalWeight50_100 = dataset[dataset.IncomeBracket == '50-100K']\n",
    "FinalWeight50_100_1 = FinalWeight50_100[FinalWeight50_100.FinalWeightLvl == 0]\n",
    "FinalWeight50_100_2 = FinalWeight50_100[FinalWeight50_100.FinalWeightLvl == 1]\n",
    "FinalWeight50_100_3 = FinalWeight50_100[FinalWeight50_100.FinalWeightLvl == 2]\n",
    "FinalWeight50_100_4 = FinalWeight50_100[FinalWeight50_100.FinalWeightLvl == 3]\n",
    "FinalWeight50_100_5 = FinalWeight50_100[FinalWeight50_100.FinalWeightLvl == 4]\n",
    "FinalWeight50_100_6 = FinalWeight50_100[FinalWeight50_100.FinalWeightLvl == 5]\n",
    "FinalWeight50_100_1_l = len(FinalWeight50_100_1)\n",
    "FinalWeight50_100_2_l = len(FinalWeight50_100_2)\n",
    "FinalWeight50_100_3_l = len(FinalWeight50_100_3)\n",
    "FinalWeight50_100_4_l = len(FinalWeight50_100_4)\n",
    "FinalWeight50_100_5_l = len(FinalWeight50_100_5)\n",
    "FinalWeight50_100_6_l = len(FinalWeight50_100_6)"
   ]
  },
  {
   "cell_type": "code",
   "execution_count": 21,
   "metadata": {
    "collapsed": true
   },
   "outputs": [],
   "source": [
    "FinalWeight100 = dataset[dataset.IncomeBracket == '>100K']\n",
    "FinalWeight100_1 = FinalWeight100[FinalWeight100.FinalWeightLvl == 0]\n",
    "FinalWeight100_2 = FinalWeight100[FinalWeight100.FinalWeightLvl == 1]\n",
    "FinalWeight100_3 = FinalWeight100[FinalWeight100.FinalWeightLvl == 2]\n",
    "FinalWeight100_4 = FinalWeight100[FinalWeight100.FinalWeightLvl == 3]\n",
    "FinalWeight100_5 = FinalWeight100[FinalWeight100.FinalWeightLvl == 4]\n",
    "FinalWeight100_6 = FinalWeight100[FinalWeight100.FinalWeightLvl == 5]\n",
    "FinalWeight100_1_l = len(FinalWeight100_1)\n",
    "FinalWeight100_2_l = len(FinalWeight100_2)\n",
    "FinalWeight100_3_l = len(FinalWeight100_3)\n",
    "FinalWeight100_4_l = len(FinalWeight100_4)\n",
    "FinalWeight100_5_l = len(FinalWeight100_5)\n",
    "FinalWeight100_6_l = len(FinalWeight100_6)"
   ]
  },
  {
   "cell_type": "code",
   "execution_count": 22,
   "metadata": {
    "collapsed": false
   },
   "outputs": [
    {
     "data": {
      "text/plain": [
       "<matplotlib.legend.Legend at 0x7f13131e4748>"
      ]
     },
     "execution_count": 22,
     "metadata": {},
     "output_type": "execute_result"
    },
    {
     "data": {
      "image/png": "[encoded data removed]",
      "text/plain": [
       "<matplotlib.figure.Figure at 0x7f1313249b00>"
      ]
     },
     "metadata": {},
     "output_type": "display_data"
    }
   ],
   "source": [
    "x = [1,2,3,4,5,6,7,8,9,10,11,12,13,14,15,16,17,18]\n",
    "x2 = ['','0-150k','','','150-300K','','','300-450K','','','450-600K','','','600K-1M','','','1M+''',]\n",
    "\n",
    "plt.bar(x[0],FinalWeight50_1_l,label='<50K',color='red')\n",
    "plt.bar(x[1],FinalWeight50_100_1_l,label='50-100K',color='blue')\n",
    "plt.bar(x[2],FinalWeight100_1_l,label='>100K',color='green')\n",
    "plt.bar(x[3],FinalWeight50_2_l,color='red')\n",
    "plt.bar(x[4],FinalWeight50_100_2_l,color='blue')\n",
    "plt.bar(x[5],FinalWeight100_2_l,color='green')\n",
    "plt.bar(x[6],FinalWeight50_3_l,color='red')\n",
    "plt.bar(x[7],FinalWeight50_100_3_l,color='blue')\n",
    "plt.bar(x[8],FinalWeight100_3_l,color='green')\n",
    "plt.bar(x[9],FinalWeight50_4_l,color='red')\n",
    "plt.bar(x[10],FinalWeight50_100_4_l,color='blue')\n",
    "plt.bar(x[11],FinalWeight100_4_l,color='green')\n",
    "plt.bar(x[12],FinalWeight50_5_l,color='red')\n",
    "plt.bar(x[13],FinalWeight50_100_5_l,color='blue')\n",
    "plt.bar(x[14],FinalWeight100_5_l,color='green')\n",
    "plt.bar(x[15],FinalWeight50_6_l,color='red')\n",
    "plt.bar(x[16],FinalWeight50_100_6_l,color='blue')\n",
    "plt.bar(x[17],FinalWeight100_6_l,color='green')\n",
    "plt.xticks(x,x2)\n",
    "plt.xlabel('Final Weight Groups')\n",
    "plt.ylabel('Income Bracket')\n",
    "plt.title('Final Weight Groups vs Income Bracket')\n",
    "plt.legend()"
   ]
  },
  {
   "cell_type": "markdown",
   "metadata": {},
   "source": [
    "The figure displays that most of the samples have a similar demographics. The ratio/probability for each of the three demographics between the three income brackets is very similar. This means that the demographics do not really affect the chances of the income bracket being different for a certain group. For example, for all three major groups it is equal chance to be in the less than 50k even if the sample FinalWeight value changed. Therefore, the trend shown here would not really aid in classification that well unless the FinalWeight value was greater than 450k. "
   ]
  },
  {
   "cell_type": "markdown",
   "metadata": {},
   "source": [
    "### 3.2 Part B Feature Importance"
   ]
  },
  {
   "cell_type": "markdown",
   "metadata": {},
   "source": [
    "#### 3.2.1 PCA (Unfiltered)"
   ]
  },
  {
   "cell_type": "markdown",
   "metadata": {},
   "source": [
    "The PCA was created first by insuring all columns to be used were in integer type and then the dataset to be used would only contain number values (i.e. the 'Lvl' columns). "
   ]
  },
  {
   "cell_type": "code",
   "execution_count": 23,
   "metadata": {
    "collapsed": false
   },
   "outputs": [
    {
     "data": {
      "text/plain": [
       "Age                    int64\n",
       "WorkClass           category\n",
       "FinalWeight            int64\n",
       "Education             object\n",
       "EducationLvl           int64\n",
       "MaritalStatus       category\n",
       "Occupation          category\n",
       "Relationship        category\n",
       "Race                category\n",
       "Sex                 category\n",
       "CapitalGain            int64\n",
       "CapitalLoss            int64\n",
       "HoursPerWeek           int64\n",
       "NativeCountry       category\n",
       "IncomeBracket         object\n",
       "WorkClassLvl            int8\n",
       "MaritalStatusLvl        int8\n",
       "OccupationLvl           int8\n",
       "RelationshipLvl         int8\n",
       "RaceLvl                 int8\n",
       "SexLvl                  int8\n",
       "NativeCountryLvl        int8\n",
       "IncomeBracketLvl        int8\n",
       "AgeLvl              category\n",
       "HoursPerWeekLvl     category\n",
       "FinalWeightLvl      category\n",
       "dtype: object"
      ]
     },
     "execution_count": 23,
     "metadata": {},
     "output_type": "execute_result"
    }
   ],
   "source": [
    "dataset.dtypes"
   ]
  },
  {
   "cell_type": "code",
   "execution_count": 24,
   "metadata": {
    "collapsed": false
   },
   "outputs": [],
   "source": [
    "dataset[\"AgeLvl\"] = dataset[\"AgeLvl\"].astype('int8')\n",
    "dataset[\"HoursPerWeekLvl\"] = dataset[\"HoursPerWeekLvl\"].astype('int8')\n",
    "dataset[\"FinalWeightLvl\"] = dataset[\"FinalWeightLvl\"].astype('int8')\n",
    "dataset['CapitalGainLvl'] = pd.cut(dataset['CapitalGain'], \n",
    "                                   bins=[0,10000,20000,30000,40000,50000,60000,70000,80000,90000,100000,np.inf],\n",
    "                                    labels=[0,1,2,3,4,5,6,7,8,9,10])\n",
    "dataset[\"CapitalGainLvl\"] = dataset[\"CapitalGainLvl\"].astype('int8')\n",
    "dataset['CapitalLossLvl'] = pd.cut(dataset['CapitalLoss'], \n",
    "                                   bins=[-np.inf,-100000,-90000,-80000,-70000,-60000,-50000,-40000,-30000,-20000,-10000,0],\n",
    "                                    labels=[0,1,2,3,4,5,6,7,8,9,10])\n",
    "dataset[\"CapitalLossLvl\"] = dataset[\"CapitalLossLvl\"].astype('int8')"
   ]
  },
  {
   "cell_type": "code",
   "execution_count": 25,
   "metadata": {
    "collapsed": false
   },
   "outputs": [
    {
     "data": {
      "text/plain": [
       "Age                    int64\n",
       "WorkClass           category\n",
       "FinalWeight            int64\n",
       "Education             object\n",
       "EducationLvl           int64\n",
       "MaritalStatus       category\n",
       "Occupation          category\n",
       "Relationship        category\n",
       "Race                category\n",
       "Sex                 category\n",
       "CapitalGain            int64\n",
       "CapitalLoss            int64\n",
       "HoursPerWeek           int64\n",
       "NativeCountry       category\n",
       "IncomeBracket         object\n",
       "WorkClassLvl            int8\n",
       "MaritalStatusLvl        int8\n",
       "OccupationLvl           int8\n",
       "RelationshipLvl         int8\n",
       "RaceLvl                 int8\n",
       "SexLvl                  int8\n",
       "NativeCountryLvl        int8\n",
       "IncomeBracketLvl        int8\n",
       "AgeLvl                  int8\n",
       "HoursPerWeekLvl         int8\n",
       "FinalWeightLvl          int8\n",
       "CapitalGainLvl          int8\n",
       "CapitalLossLvl          int8\n",
       "dtype: object"
      ]
     },
     "execution_count": 25,
     "metadata": {},
     "output_type": "execute_result"
    }
   ],
   "source": [
    "dataset.dtypes"
   ]
  },
  {
   "cell_type": "code",
   "execution_count": 26,
   "metadata": {
    "collapsed": false
   },
   "outputs": [],
   "source": [
    "dataset_pca = dataset[['AgeLvl','WorkClassLvl','FinalWeightLvl','EducationLvl','MaritalStatusLvl','OccupationLvl',\n",
    "                       'RelationshipLvl','RaceLvl','SexLvl','CapitalGainLvl','CapitalLossLvl','HoursPerWeekLvl',\n",
    "                       'NativeCountryLvl','IncomeBracketLvl']]"
   ]
  },
  {
   "cell_type": "code",
   "execution_count": 27,
   "metadata": {
    "collapsed": false
   },
   "outputs": [
    {
     "data": {
      "text/plain": [
       "<matplotlib.legend.Legend at 0x7f1304ca8ac8>"
      ]
     },
     "execution_count": 27,
     "metadata": {},
     "output_type": "execute_result"
    },
    {
     "data": {
      "image/png": "[encoded data removed]",
      "text/plain": [
       "<matplotlib.figure.Figure at 0x7f1313153ef0>"
      ]
     },
     "metadata": {},
     "output_type": "display_data"
    }
   ],
   "source": [
    "# Splitting data frame to x and y components.\n",
    "train_x = np.array(dataset_pca[dataset_pca.columns[0:12]])\n",
    "train_y = np.array(dataset_pca[dataset_pca.columns[13]])\n",
    "\n",
    "# Initializing and fitting the PCA.\n",
    "PCA_ = PCA(n_components = 2)\n",
    "PCA_x = PCA_.fit(train_x).transform(train_x)\n",
    "\n",
    "# Plotting the PCA results.\n",
    "plt.figure()\n",
    "\n",
    "for i in range(0, len(train_y)):\n",
    "    if(train_y[i] == 0):\n",
    "        PCA_0 = plt.scatter(PCA_x[i, 0], PCA_x[i, 1], color = 'b')\n",
    "    if(train_y[i] == 1):\n",
    "        PCA_1 = plt.scatter(PCA_x[i, 0], PCA_x[i, 1], color = 'r')\n",
    "    if(train_y[i] == 2):\n",
    "        PCA_2 = plt.scatter(PCA_x[i, 0], PCA_x[i, 1], color = 'g')\n",
    "\n",
    "plt.xlabel('Principal Component 1')\n",
    "plt.ylabel('Principal Component 2')\n",
    "plt.title('PCA of the Training Income Dataset', fontsize = 14, fontweight = 'bold', y = 1.05)\n",
    "plt.legend((PCA_0, PCA_1,PCA_2), ('50-100K', '<50K','>100K'))"
   ]
  },
  {
   "cell_type": "markdown",
   "metadata": {},
   "source": [
    "The PCA above is very clustered due to the large number of samples and features. Therefore, it is difficult to conclude anything. However, there is clustering happening which is good because it shows that these features are closely related. "
   ]
  },
  {
   "cell_type": "markdown",
   "metadata": {},
   "source": [
    "#### 3.2.2 PCA Filtered"
   ]
  },
  {
   "cell_type": "markdown",
   "metadata": {},
   "source": [
    "The PCA can show more information if even number of income brackets are taken. This is done here by first finding which income bracket has the least number of samples and using that number for each of the other brackets. "
   ]
  },
  {
   "cell_type": "code",
   "execution_count": 28,
   "metadata": {
    "collapsed": false
   },
   "outputs": [],
   "source": [
    "u = dataset_pca[dataset_pca.IncomeBracketLvl == 0]\n",
    "i = dataset_pca[dataset_pca.IncomeBracketLvl == 1]\n",
    "k = dataset_pca[dataset_pca.IncomeBracketLvl == 2]"
   ]
  },
  {
   "cell_type": "code",
   "execution_count": 29,
   "metadata": {
    "collapsed": false
   },
   "outputs": [
    {
     "name": "stdout",
     "output_type": "stream",
     "text": [
      "1916\n",
      "16901\n",
      "3837\n"
     ]
    }
   ],
   "source": [
    "ham = len(k)\n",
    "ham2 = len(i)\n",
    "ham3 = len(u)\n",
    "print(ham) \n",
    "print(ham2) \n",
    "print(ham3) "
   ]
  },
  {
   "cell_type": "code",
   "execution_count": 30,
   "metadata": {
    "collapsed": false
   },
   "outputs": [
    {
     "data": {
      "text/html": [
       "<div>\n",
       "<table border=\"1\" class=\"dataframe\">\n",
       "  <thead>\n",
       "    <tr style=\"text-align: right;\">\n",
       "      <th></th>\n",
       "      <th>AgeLvl</th>\n",
       "      <th>WorkClassLvl</th>\n",
       "      <th>FinalWeightLvl</th>\n",
       "      <th>EducationLvl</th>\n",
       "      <th>MaritalStatusLvl</th>\n",
       "      <th>OccupationLvl</th>\n",
       "      <th>RelationshipLvl</th>\n",
       "      <th>RaceLvl</th>\n",
       "      <th>SexLvl</th>\n",
       "      <th>CapitalGainLvl</th>\n",
       "      <th>CapitalLossLvl</th>\n",
       "      <th>HoursPerWeekLvl</th>\n",
       "      <th>NativeCountryLvl</th>\n",
       "      <th>IncomeBracketLvl</th>\n",
       "    </tr>\n",
       "  </thead>\n",
       "  <tbody>\n",
       "    <tr>\n",
       "      <th>0</th>\n",
       "      <td>3</td>\n",
       "      <td>5</td>\n",
       "      <td>1</td>\n",
       "      <td>10</td>\n",
       "      <td>2</td>\n",
       "      <td>4</td>\n",
       "      <td>0</td>\n",
       "      <td>4</td>\n",
       "      <td>1</td>\n",
       "      <td>0</td>\n",
       "      <td>10</td>\n",
       "      <td>1</td>\n",
       "      <td>38</td>\n",
       "      <td>1</td>\n",
       "    </tr>\n",
       "    <tr>\n",
       "      <th>1</th>\n",
       "      <td>1</td>\n",
       "      <td>2</td>\n",
       "      <td>0</td>\n",
       "      <td>10</td>\n",
       "      <td>4</td>\n",
       "      <td>7</td>\n",
       "      <td>1</td>\n",
       "      <td>4</td>\n",
       "      <td>0</td>\n",
       "      <td>0</td>\n",
       "      <td>10</td>\n",
       "      <td>1</td>\n",
       "      <td>38</td>\n",
       "      <td>1</td>\n",
       "    </tr>\n",
       "    <tr>\n",
       "      <th>3</th>\n",
       "      <td>2</td>\n",
       "      <td>4</td>\n",
       "      <td>1</td>\n",
       "      <td>5</td>\n",
       "      <td>2</td>\n",
       "      <td>2</td>\n",
       "      <td>0</td>\n",
       "      <td>4</td>\n",
       "      <td>1</td>\n",
       "      <td>0</td>\n",
       "      <td>10</td>\n",
       "      <td>1</td>\n",
       "      <td>38</td>\n",
       "      <td>1</td>\n",
       "    </tr>\n",
       "    <tr>\n",
       "      <th>4</th>\n",
       "      <td>4</td>\n",
       "      <td>4</td>\n",
       "      <td>0</td>\n",
       "      <td>14</td>\n",
       "      <td>2</td>\n",
       "      <td>11</td>\n",
       "      <td>0</td>\n",
       "      <td>4</td>\n",
       "      <td>1</td>\n",
       "      <td>0</td>\n",
       "      <td>10</td>\n",
       "      <td>2</td>\n",
       "      <td>38</td>\n",
       "      <td>1</td>\n",
       "    </tr>\n",
       "    <tr>\n",
       "      <th>5</th>\n",
       "      <td>2</td>\n",
       "      <td>2</td>\n",
       "      <td>1</td>\n",
       "      <td>9</td>\n",
       "      <td>0</td>\n",
       "      <td>13</td>\n",
       "      <td>1</td>\n",
       "      <td>4</td>\n",
       "      <td>1</td>\n",
       "      <td>0</td>\n",
       "      <td>0</td>\n",
       "      <td>2</td>\n",
       "      <td>38</td>\n",
       "      <td>1</td>\n",
       "    </tr>\n",
       "  </tbody>\n",
       "</table>\n",
       "</div>"
      ],
      "text/plain": [
       "   AgeLvl  WorkClassLvl  FinalWeightLvl  EducationLvl  MaritalStatusLvl  \\\n",
       "0       3             5               1            10                 2   \n",
       "1       1             2               0            10                 4   \n",
       "3       2             4               1             5                 2   \n",
       "4       4             4               0            14                 2   \n",
       "5       2             2               1             9                 0   \n",
       "\n",
       "   OccupationLvl  RelationshipLvl  RaceLvl  SexLvl  CapitalGainLvl  \\\n",
       "0              4                0        4       1               0   \n",
       "1              7                1        4       0               0   \n",
       "3              2                0        4       1               0   \n",
       "4             11                0        4       1               0   \n",
       "5             13                1        4       1               0   \n",
       "\n",
       "   CapitalLossLvl  HoursPerWeekLvl  NativeCountryLvl  IncomeBracketLvl  \n",
       "0              10                1                38                 1  \n",
       "1              10                1                38                 1  \n",
       "3              10                1                38                 1  \n",
       "4              10                2                38                 1  \n",
       "5               0                2                38                 1  "
      ]
     },
     "execution_count": 30,
     "metadata": {},
     "output_type": "execute_result"
    }
   ],
   "source": [
    "u2 = u.head(ham)\n",
    "i2 = i.head(ham)\n",
    "k2 = k.head(ham)\n",
    "df=i2.append(u2)\n",
    "df=df.append(k2)\n",
    "df.head()"
   ]
  },
  {
   "cell_type": "code",
   "execution_count": 31,
   "metadata": {
    "collapsed": false
   },
   "outputs": [
    {
     "data": {
      "text/plain": [
       "<matplotlib.legend.Legend at 0x7f13010982b0>"
      ]
     },
     "execution_count": 31,
     "metadata": {},
     "output_type": "execute_result"
    },
    {
     "data": {
      "image/png": "[encoded data removed]",
      "text/plain": [
       "<matplotlib.figure.Figure at 0x7f131ef60198>"
      ]
     },
     "metadata": {},
     "output_type": "display_data"
    }
   ],
   "source": [
    "# Splitting data frame to x and y components.\n",
    "train_x = np.array(df[df.columns[0:12]])\n",
    "train_y = np.array(df[df.columns[13]])\n",
    "\n",
    "# Initializing and fitting the PCA.\n",
    "PCA_ = PCA(n_components = 2)\n",
    "PCA_x = PCA_.fit(train_x).transform(train_x)\n",
    "\n",
    "# Plotting the PCA results.\n",
    "plt.figure()\n",
    "\n",
    "for i in range(0, len(train_y)):\n",
    "    if(train_y[i] == 0):\n",
    "        PCA_0 = plt.scatter(PCA_x[i, 0], PCA_x[i, 1], color = 'b')\n",
    "    if(train_y[i] == 1):\n",
    "        PCA_1 = plt.scatter(PCA_x[i, 0], PCA_x[i, 1], color = 'r')\n",
    "    if(train_y[i] == 2):\n",
    "        PCA_2 = plt.scatter(PCA_x[i, 0], PCA_x[i, 1], color = 'g')\n",
    "\n",
    "plt.xlabel('Principal Component 1')\n",
    "plt.ylabel('Principal Component 2')\n",
    "plt.title('PCA of the Training Income Dataset', fontsize = 14, fontweight = 'bold', y = 1.05)\n",
    "plt.legend((PCA_0, PCA_1,PCA_2), ('50-100K', '<50K','>100K'))"
   ]
  },
  {
   "cell_type": "markdown",
   "metadata": {},
   "source": [
    "This PCA is a lot clearer but still a little difficult to tell. From this PCA there is a lot of clustering of the over 100k bracket from initial inspection. The data is still sort of clustered but spread a part. This is good as the features are correlated to each other in a strong manner but not so dominant. There is somewhat of a balance which is required. However, this PCA still does not show the complete picture. "
   ]
  },
  {
   "cell_type": "markdown",
   "metadata": {},
   "source": [
    "#### 3.2.3 Correlation Plot"
   ]
  },
  {
   "cell_type": "markdown",
   "metadata": {},
   "source": [
    "The complete picture can be shown using the correlation plot. "
   ]
  },
  {
   "cell_type": "code",
   "execution_count": 32,
   "metadata": {
    "collapsed": false,
    "scrolled": true
   },
   "outputs": [
    {
     "data": {
      "text/html": [
       "<div>\n",
       "<table border=\"1\" class=\"dataframe\">\n",
       "  <thead>\n",
       "    <tr style=\"text-align: right;\">\n",
       "      <th></th>\n",
       "      <th>AgeLvl</th>\n",
       "      <th>WorkClassLvl</th>\n",
       "      <th>FinalWeightLvl</th>\n",
       "      <th>EducationLvl</th>\n",
       "      <th>MaritalStatusLvl</th>\n",
       "      <th>OccupationLvl</th>\n",
       "      <th>RelationshipLvl</th>\n",
       "      <th>RaceLvl</th>\n",
       "      <th>SexLvl</th>\n",
       "      <th>CapitalGainLvl</th>\n",
       "      <th>CapitalLossLvl</th>\n",
       "      <th>HoursPerWeekLvl</th>\n",
       "      <th>NativeCountryLvl</th>\n",
       "      <th>IncomeBracketLvl</th>\n",
       "    </tr>\n",
       "  </thead>\n",
       "  <tbody>\n",
       "    <tr>\n",
       "      <th>AgeLvl</th>\n",
       "      <td>1.000000</td>\n",
       "      <td>0.079299</td>\n",
       "      <td>-0.078425</td>\n",
       "      <td>0.071861</td>\n",
       "      <td>-0.312419</td>\n",
       "      <td>0.006031</td>\n",
       "      <td>-0.260252</td>\n",
       "      <td>0.020518</td>\n",
       "      <td>0.093649</td>\n",
       "      <td>0.065360</td>\n",
       "      <td>-0.064188</td>\n",
       "      <td>0.131475</td>\n",
       "      <td>-0.009896</td>\n",
       "      <td>-0.069749</td>\n",
       "    </tr>\n",
       "    <tr>\n",
       "      <th>WorkClassLvl</th>\n",
       "      <td>0.079299</td>\n",
       "      <td>1.000000</td>\n",
       "      <td>-0.040670</td>\n",
       "      <td>0.040821</td>\n",
       "      <td>-0.030062</td>\n",
       "      <td>0.007079</td>\n",
       "      <td>-0.067652</td>\n",
       "      <td>0.049870</td>\n",
       "      <td>0.068650</td>\n",
       "      <td>0.036093</td>\n",
       "      <td>-0.005483</td>\n",
       "      <td>0.063912</td>\n",
       "      <td>0.004753</td>\n",
       "      <td>0.001018</td>\n",
       "    </tr>\n",
       "    <tr>\n",
       "      <th>FinalWeightLvl</th>\n",
       "      <td>-0.078425</td>\n",
       "      <td>-0.040670</td>\n",
       "      <td>1.000000</td>\n",
       "      <td>-0.033791</td>\n",
       "      <td>0.034121</td>\n",
       "      <td>-0.003155</td>\n",
       "      <td>0.016501</td>\n",
       "      <td>-0.019036</td>\n",
       "      <td>0.026419</td>\n",
       "      <td>-0.000505</td>\n",
       "      <td>-0.000443</td>\n",
       "      <td>-0.020335</td>\n",
       "      <td>-0.058004</td>\n",
       "      <td>-0.003030</td>\n",
       "    </tr>\n",
       "    <tr>\n",
       "      <th>EducationLvl</th>\n",
       "      <td>0.071861</td>\n",
       "      <td>0.040821</td>\n",
       "      <td>-0.033791</td>\n",
       "      <td>1.000000</td>\n",
       "      <td>-0.067857</td>\n",
       "      <td>0.092289</td>\n",
       "      <td>-0.095124</td>\n",
       "      <td>0.023590</td>\n",
       "      <td>0.009803</td>\n",
       "      <td>0.117617</td>\n",
       "      <td>-0.076479</td>\n",
       "      <td>0.160782</td>\n",
       "      <td>0.092391</td>\n",
       "      <td>-0.103627</td>\n",
       "    </tr>\n",
       "    <tr>\n",
       "      <th>MaritalStatusLvl</th>\n",
       "      <td>-0.312419</td>\n",
       "      <td>-0.030062</td>\n",
       "      <td>0.034121</td>\n",
       "      <td>-0.067857</td>\n",
       "      <td>1.000000</td>\n",
       "      <td>0.010269</td>\n",
       "      <td>0.179989</td>\n",
       "      <td>-0.063804</td>\n",
       "      <td>-0.121328</td>\n",
       "      <td>-0.031451</td>\n",
       "      <td>0.036773</td>\n",
       "      <td>-0.166102</td>\n",
       "      <td>-0.023400</td>\n",
       "      <td>0.059382</td>\n",
       "    </tr>\n",
       "    <tr>\n",
       "      <th>OccupationLvl</th>\n",
       "      <td>0.006031</td>\n",
       "      <td>0.007079</td>\n",
       "      <td>-0.003155</td>\n",
       "      <td>0.092289</td>\n",
       "      <td>0.010269</td>\n",
       "      <td>1.000000</td>\n",
       "      <td>-0.055580</td>\n",
       "      <td>0.008640</td>\n",
       "      <td>0.063166</td>\n",
       "      <td>0.022607</td>\n",
       "      <td>-0.014920</td>\n",
       "      <td>0.050055</td>\n",
       "      <td>-0.002141</td>\n",
       "      <td>-0.015477</td>\n",
       "    </tr>\n",
       "    <tr>\n",
       "      <th>RelationshipLvl</th>\n",
       "      <td>-0.260252</td>\n",
       "      <td>-0.067652</td>\n",
       "      <td>0.016501</td>\n",
       "      <td>-0.095124</td>\n",
       "      <td>0.179989</td>\n",
       "      <td>-0.055580</td>\n",
       "      <td>1.000000</td>\n",
       "      <td>-0.123722</td>\n",
       "      <td>-0.588315</td>\n",
       "      <td>-0.042249</td>\n",
       "      <td>0.054011</td>\n",
       "      <td>-0.244810</td>\n",
       "      <td>-0.008403</td>\n",
       "      <td>0.077021</td>\n",
       "    </tr>\n",
       "    <tr>\n",
       "      <th>RaceLvl</th>\n",
       "      <td>0.020518</td>\n",
       "      <td>0.049870</td>\n",
       "      <td>-0.019036</td>\n",
       "      <td>0.023590</td>\n",
       "      <td>-0.063804</td>\n",
       "      <td>0.008640</td>\n",
       "      <td>-0.123722</td>\n",
       "      <td>1.000000</td>\n",
       "      <td>0.088416</td>\n",
       "      <td>0.005929</td>\n",
       "      <td>-0.021204</td>\n",
       "      <td>0.073991</td>\n",
       "      <td>0.130966</td>\n",
       "      <td>-0.026445</td>\n",
       "    </tr>\n",
       "    <tr>\n",
       "      <th>SexLvl</th>\n",
       "      <td>0.093649</td>\n",
       "      <td>0.068650</td>\n",
       "      <td>0.026419</td>\n",
       "      <td>0.009803</td>\n",
       "      <td>-0.121328</td>\n",
       "      <td>0.063166</td>\n",
       "      <td>-0.588315</td>\n",
       "      <td>0.088416</td>\n",
       "      <td>1.000000</td>\n",
       "      <td>0.034671</td>\n",
       "      <td>-0.048588</td>\n",
       "      <td>0.215378</td>\n",
       "      <td>-0.001294</td>\n",
       "      <td>-0.067075</td>\n",
       "    </tr>\n",
       "    <tr>\n",
       "      <th>CapitalGainLvl</th>\n",
       "      <td>0.065360</td>\n",
       "      <td>0.036093</td>\n",
       "      <td>-0.000505</td>\n",
       "      <td>0.117617</td>\n",
       "      <td>-0.031451</td>\n",
       "      <td>0.022607</td>\n",
       "      <td>-0.042249</td>\n",
       "      <td>0.005929</td>\n",
       "      <td>0.034671</td>\n",
       "      <td>1.000000</td>\n",
       "      <td>0.023103</td>\n",
       "      <td>0.079313</td>\n",
       "      <td>0.000895</td>\n",
       "      <td>-0.051536</td>\n",
       "    </tr>\n",
       "    <tr>\n",
       "      <th>CapitalLossLvl</th>\n",
       "      <td>-0.064188</td>\n",
       "      <td>-0.005483</td>\n",
       "      <td>-0.000443</td>\n",
       "      <td>-0.076479</td>\n",
       "      <td>0.036773</td>\n",
       "      <td>-0.014920</td>\n",
       "      <td>0.054011</td>\n",
       "      <td>-0.021204</td>\n",
       "      <td>-0.048588</td>\n",
       "      <td>0.023103</td>\n",
       "      <td>1.000000</td>\n",
       "      <td>-0.054489</td>\n",
       "      <td>-0.008983</td>\n",
       "      <td>0.037770</td>\n",
       "    </tr>\n",
       "    <tr>\n",
       "      <th>HoursPerWeekLvl</th>\n",
       "      <td>0.131475</td>\n",
       "      <td>0.063912</td>\n",
       "      <td>-0.020335</td>\n",
       "      <td>0.160782</td>\n",
       "      <td>-0.166102</td>\n",
       "      <td>0.050055</td>\n",
       "      <td>-0.244810</td>\n",
       "      <td>0.073991</td>\n",
       "      <td>0.215378</td>\n",
       "      <td>0.079313</td>\n",
       "      <td>-0.054489</td>\n",
       "      <td>1.000000</td>\n",
       "      <td>0.018208</td>\n",
       "      <td>-0.062842</td>\n",
       "    </tr>\n",
       "    <tr>\n",
       "      <th>NativeCountryLvl</th>\n",
       "      <td>-0.009896</td>\n",
       "      <td>0.004753</td>\n",
       "      <td>-0.058004</td>\n",
       "      <td>0.092391</td>\n",
       "      <td>-0.023400</td>\n",
       "      <td>-0.002141</td>\n",
       "      <td>-0.008403</td>\n",
       "      <td>0.130966</td>\n",
       "      <td>-0.001294</td>\n",
       "      <td>0.000895</td>\n",
       "      <td>-0.008983</td>\n",
       "      <td>0.018208</td>\n",
       "      <td>1.000000</td>\n",
       "      <td>0.000418</td>\n",
       "    </tr>\n",
       "    <tr>\n",
       "      <th>IncomeBracketLvl</th>\n",
       "      <td>-0.069749</td>\n",
       "      <td>0.001018</td>\n",
       "      <td>-0.003030</td>\n",
       "      <td>-0.103627</td>\n",
       "      <td>0.059382</td>\n",
       "      <td>-0.015477</td>\n",
       "      <td>0.077021</td>\n",
       "      <td>-0.026445</td>\n",
       "      <td>-0.067075</td>\n",
       "      <td>-0.051536</td>\n",
       "      <td>0.037770</td>\n",
       "      <td>-0.062842</td>\n",
       "      <td>0.000418</td>\n",
       "      <td>1.000000</td>\n",
       "    </tr>\n",
       "  </tbody>\n",
       "</table>\n",
       "</div>"
      ],
      "text/plain": [
       "                    AgeLvl  WorkClassLvl  FinalWeightLvl  EducationLvl  \\\n",
       "AgeLvl            1.000000      0.079299       -0.078425      0.071861   \n",
       "WorkClassLvl      0.079299      1.000000       -0.040670      0.040821   \n",
       "FinalWeightLvl   -0.078425     -0.040670        1.000000     -0.033791   \n",
       "EducationLvl      0.071861      0.040821       -0.033791      1.000000   \n",
       "MaritalStatusLvl -0.312419     -0.030062        0.034121     -0.067857   \n",
       "OccupationLvl     0.006031      0.007079       -0.003155      0.092289   \n",
       "RelationshipLvl  -0.260252     -0.067652        0.016501     -0.095124   \n",
       "RaceLvl           0.020518      0.049870       -0.019036      0.023590   \n",
       "SexLvl            0.093649      0.068650        0.026419      0.009803   \n",
       "CapitalGainLvl    0.065360      0.036093       -0.000505      0.117617   \n",
       "CapitalLossLvl   -0.064188     -0.005483       -0.000443     -0.076479   \n",
       "HoursPerWeekLvl   0.131475      0.063912       -0.020335      0.160782   \n",
       "NativeCountryLvl -0.009896      0.004753       -0.058004      0.092391   \n",
       "IncomeBracketLvl -0.069749      0.001018       -0.003030     -0.103627   \n",
       "\n",
       "                  MaritalStatusLvl  OccupationLvl  RelationshipLvl   RaceLvl  \\\n",
       "AgeLvl                   -0.312419       0.006031        -0.260252  0.020518   \n",
       "WorkClassLvl             -0.030062       0.007079        -0.067652  0.049870   \n",
       "FinalWeightLvl            0.034121      -0.003155         0.016501 -0.019036   \n",
       "EducationLvl             -0.067857       0.092289        -0.095124  0.023590   \n",
       "MaritalStatusLvl          1.000000       0.010269         0.179989 -0.063804   \n",
       "OccupationLvl             0.010269       1.000000        -0.055580  0.008640   \n",
       "RelationshipLvl           0.179989      -0.055580         1.000000 -0.123722   \n",
       "RaceLvl                  -0.063804       0.008640        -0.123722  1.000000   \n",
       "SexLvl                   -0.121328       0.063166        -0.588315  0.088416   \n",
       "CapitalGainLvl           -0.031451       0.022607        -0.042249  0.005929   \n",
       "CapitalLossLvl            0.036773      -0.014920         0.054011 -0.021204   \n",
       "HoursPerWeekLvl          -0.166102       0.050055        -0.244810  0.073991   \n",
       "NativeCountryLvl         -0.023400      -0.002141        -0.008403  0.130966   \n",
       "IncomeBracketLvl          0.059382      -0.015477         0.077021 -0.026445   \n",
       "\n",
       "                    SexLvl  CapitalGainLvl  CapitalLossLvl  HoursPerWeekLvl  \\\n",
       "AgeLvl            0.093649        0.065360       -0.064188         0.131475   \n",
       "WorkClassLvl      0.068650        0.036093       -0.005483         0.063912   \n",
       "FinalWeightLvl    0.026419       -0.000505       -0.000443        -0.020335   \n",
       "EducationLvl      0.009803        0.117617       -0.076479         0.160782   \n",
       "MaritalStatusLvl -0.121328       -0.031451        0.036773        -0.166102   \n",
       "OccupationLvl     0.063166        0.022607       -0.014920         0.050055   \n",
       "RelationshipLvl  -0.588315       -0.042249        0.054011        -0.244810   \n",
       "RaceLvl           0.088416        0.005929       -0.021204         0.073991   \n",
       "SexLvl            1.000000        0.034671       -0.048588         0.215378   \n",
       "CapitalGainLvl    0.034671        1.000000        0.023103         0.079313   \n",
       "CapitalLossLvl   -0.048588        0.023103        1.000000        -0.054489   \n",
       "HoursPerWeekLvl   0.215378        0.079313       -0.054489         1.000000   \n",
       "NativeCountryLvl -0.001294        0.000895       -0.008983         0.018208   \n",
       "IncomeBracketLvl -0.067075       -0.051536        0.037770        -0.062842   \n",
       "\n",
       "                  NativeCountryLvl  IncomeBracketLvl  \n",
       "AgeLvl                   -0.009896         -0.069749  \n",
       "WorkClassLvl              0.004753          0.001018  \n",
       "FinalWeightLvl           -0.058004         -0.003030  \n",
       "EducationLvl              0.092391         -0.103627  \n",
       "MaritalStatusLvl         -0.023400          0.059382  \n",
       "OccupationLvl            -0.002141         -0.015477  \n",
       "RelationshipLvl          -0.008403          0.077021  \n",
       "RaceLvl                   0.130966         -0.026445  \n",
       "SexLvl                   -0.001294         -0.067075  \n",
       "CapitalGainLvl            0.000895         -0.051536  \n",
       "CapitalLossLvl           -0.008983          0.037770  \n",
       "HoursPerWeekLvl           0.018208         -0.062842  \n",
       "NativeCountryLvl          1.000000          0.000418  \n",
       "IncomeBracketLvl          0.000418          1.000000  "
      ]
     },
     "execution_count": 32,
     "metadata": {},
     "output_type": "execute_result"
    }
   ],
   "source": [
    "eggs = dataset_pca.corr()\n",
    "eggs"
   ]
  },
  {
   "cell_type": "code",
   "execution_count": 33,
   "metadata": {
    "collapsed": false
   },
   "outputs": [
    {
     "data": {
      "image/png": "[encoded data removed]",
      "text/plain": [
       "<matplotlib.figure.Figure at 0x7f1301a06f98>"
      ]
     },
     "metadata": {},
     "output_type": "display_data"
    }
   ],
   "source": [
    "plt.matshow(eggs)\n",
    "axis_label = ['Age','WorkClass','FinalWeight','Education','MaritalStatus','Occupation','Relationship','Race','Sex',\n",
    "              'CapitalGain','CapitalLoss','HoursPerWeek','NativeCountry','IncomeBracket']\n",
    "axis_label_x = ['A','WC','FW','E','MS','O','Rs','R','S',\n",
    "              'CG ','CL ',' HW ','NC ''IB']\n",
    "x_pos = np.arange(len(axis_label))\n",
    "plt.xticks(x_pos,axis_label_x)\n",
    "y_pos = np.arange(len(axis_label))\n",
    "plt.yticks(y_pos,axis_label)\n",
    "plt.title('Correlation Between Features')\n",
    "plt.show()"
   ]
  },
  {
   "cell_type": "markdown",
   "metadata": {},
   "source": [
    "The correlation matrix image above shows how each feature is related to each other and the income brackets. A red box shows that the matrix is positive 1 related and a dark blue/black means negative 1. From the above the most original attributes  that are related to the income bracket value respectively in order are Education, Relationship, Age, Sex, HoursPerWeek, MaritalStatus and CapitalGain. "
   ]
  },
  {
   "cell_type": "markdown",
   "metadata": {},
   "source": [
    "## 4.0 Feature Selection"
   ]
  },
  {
   "cell_type": "markdown",
   "metadata": {},
   "source": [
    "For model training, not all features from the original have to be used. As seen in Section 3.2 not all attributes  are helpful because they do not really correlate to the income bracket. Therefore, any feature with correlation below 0.05 (absolute value) was not taken except Occupation. Occupation is the exception because a feature relating back to the sample's career may be useful for other datasets. As well it has higher correlation than WorkClass and hence why it is taken over that feature.  <br> This leaves the following features: <br>Education <br>Relationship <br>Age <br>Sex<br>HoursPerWeek<br>Occupation<br>MaritalStatus<br>CapitalGain<br><br> From this list the last two are dropped. This is because MaritalStatus and Relationship are similar therefore only one is needed to not create a bias and CapitalGain is used to create a new feature. The rest of the original features are dropped using the lines of code below. "
   ]
  },
  {
   "cell_type": "code",
   "execution_count": 34,
   "metadata": {
    "collapsed": false
   },
   "outputs": [
    {
     "data": {
      "text/html": [
       "<div>\n",
       "<table border=\"1\" class=\"dataframe\">\n",
       "  <thead>\n",
       "    <tr style=\"text-align: right;\">\n",
       "      <th></th>\n",
       "      <th>AgeLvl</th>\n",
       "      <th>EducationLvl</th>\n",
       "      <th>OccupationLvl</th>\n",
       "      <th>RelationshipLvl</th>\n",
       "      <th>SexLvl</th>\n",
       "      <th>HoursPerWeekLvl</th>\n",
       "      <th>IncomeBracketLvl</th>\n",
       "    </tr>\n",
       "  </thead>\n",
       "  <tbody>\n",
       "    <tr>\n",
       "      <th>0</th>\n",
       "      <td>3</td>\n",
       "      <td>10</td>\n",
       "      <td>4</td>\n",
       "      <td>0</td>\n",
       "      <td>1</td>\n",
       "      <td>1</td>\n",
       "      <td>1</td>\n",
       "    </tr>\n",
       "    <tr>\n",
       "      <th>1</th>\n",
       "      <td>1</td>\n",
       "      <td>10</td>\n",
       "      <td>7</td>\n",
       "      <td>1</td>\n",
       "      <td>0</td>\n",
       "      <td>1</td>\n",
       "      <td>1</td>\n",
       "    </tr>\n",
       "    <tr>\n",
       "      <th>2</th>\n",
       "      <td>1</td>\n",
       "      <td>10</td>\n",
       "      <td>13</td>\n",
       "      <td>0</td>\n",
       "      <td>1</td>\n",
       "      <td>1</td>\n",
       "      <td>0</td>\n",
       "    </tr>\n",
       "    <tr>\n",
       "      <th>3</th>\n",
       "      <td>2</td>\n",
       "      <td>5</td>\n",
       "      <td>2</td>\n",
       "      <td>0</td>\n",
       "      <td>1</td>\n",
       "      <td>1</td>\n",
       "      <td>1</td>\n",
       "    </tr>\n",
       "    <tr>\n",
       "      <th>4</th>\n",
       "      <td>4</td>\n",
       "      <td>14</td>\n",
       "      <td>11</td>\n",
       "      <td>0</td>\n",
       "      <td>1</td>\n",
       "      <td>2</td>\n",
       "      <td>1</td>\n",
       "    </tr>\n",
       "  </tbody>\n",
       "</table>\n",
       "</div>"
      ],
      "text/plain": [
       "   AgeLvl  EducationLvl  OccupationLvl  RelationshipLvl  SexLvl  \\\n",
       "0       3            10              4                0       1   \n",
       "1       1            10              7                1       0   \n",
       "2       1            10             13                0       1   \n",
       "3       2             5              2                0       1   \n",
       "4       4            14             11                0       1   \n",
       "\n",
       "   HoursPerWeekLvl  IncomeBracketLvl  \n",
       "0                1                 1  \n",
       "1                1                 1  \n",
       "2                1                 0  \n",
       "3                1                 1  \n",
       "4                2                 1  "
      ]
     },
     "execution_count": 34,
     "metadata": {},
     "output_type": "execute_result"
    }
   ],
   "source": [
    "dataset_model = dataset_pca\n",
    "dataset_model = dataset_model.drop('WorkClassLvl',1)\n",
    "dataset_model = dataset_model.drop('FinalWeightLvl',1)\n",
    "dataset_model = dataset_model.drop('MaritalStatusLvl',1)\n",
    "dataset_model = dataset_model.drop('RaceLvl',1)\n",
    "dataset_model = dataset_model.drop('CapitalGainLvl',1)\n",
    "dataset_model = dataset_model.drop('CapitalLossLvl',1)\n",
    "dataset_model = dataset_model.drop('NativeCountryLvl',1)\n",
    "dataset_model.head()"
   ]
  },
  {
   "cell_type": "markdown",
   "metadata": {},
   "source": [
    "The new feature added to the dataset using the existing information is Investment Income. This is essentially the difference between the CapitalGain and CapitalLoss. The advantage of this is that now the full story can be seen on how the Capital affect what class the sample is in. This new feature creation is called feature engineering. It is a very useful tool because it can be used to create features that create a better covariance and even reduce the number of features, so the cost is less to run the algorithm. It can also be used to understand new aspects of the data. "
   ]
  },
  {
   "cell_type": "code",
   "execution_count": 35,
   "metadata": {
    "collapsed": false
   },
   "outputs": [],
   "source": [
    "dataset['InvestmentIncome'] = dataset['CapitalGain'] - dataset['CapitalLoss']"
   ]
  },
  {
   "cell_type": "code",
   "execution_count": 36,
   "metadata": {
    "collapsed": false
   },
   "outputs": [],
   "source": [
    "dataset['InvestmentIncomeLvl'] = pd.cut(dataset['InvestmentIncome'], \n",
    "                                        bins=[0,10000,20000,30000,40000,50000,60000,70000,80000,90000,100000,np.inf],\n",
    "                                        labels=[0,1,2,3,4,5,6,7,8,9,10])"
   ]
  },
  {
   "cell_type": "code",
   "execution_count": 37,
   "metadata": {
    "collapsed": false
   },
   "outputs": [
    {
     "data": {
      "text/html": [
       "<div>\n",
       "<table border=\"1\" class=\"dataframe\">\n",
       "  <thead>\n",
       "    <tr style=\"text-align: right;\">\n",
       "      <th></th>\n",
       "      <th>AgeLvl</th>\n",
       "      <th>EducationLvl</th>\n",
       "      <th>OccupationLvl</th>\n",
       "      <th>RelationshipLvl</th>\n",
       "      <th>SexLvl</th>\n",
       "      <th>InvestmentIncomeLvl</th>\n",
       "      <th>HoursPerWeekLvl</th>\n",
       "      <th>IncomeBracketLvl</th>\n",
       "    </tr>\n",
       "  </thead>\n",
       "  <tbody>\n",
       "    <tr>\n",
       "      <th>0</th>\n",
       "      <td>3</td>\n",
       "      <td>10</td>\n",
       "      <td>4</td>\n",
       "      <td>0</td>\n",
       "      <td>1</td>\n",
       "      <td>0</td>\n",
       "      <td>1</td>\n",
       "      <td>1</td>\n",
       "    </tr>\n",
       "    <tr>\n",
       "      <th>1</th>\n",
       "      <td>1</td>\n",
       "      <td>10</td>\n",
       "      <td>7</td>\n",
       "      <td>1</td>\n",
       "      <td>0</td>\n",
       "      <td>0</td>\n",
       "      <td>1</td>\n",
       "      <td>1</td>\n",
       "    </tr>\n",
       "    <tr>\n",
       "      <th>2</th>\n",
       "      <td>1</td>\n",
       "      <td>10</td>\n",
       "      <td>13</td>\n",
       "      <td>0</td>\n",
       "      <td>1</td>\n",
       "      <td>0</td>\n",
       "      <td>1</td>\n",
       "      <td>0</td>\n",
       "    </tr>\n",
       "    <tr>\n",
       "      <th>3</th>\n",
       "      <td>2</td>\n",
       "      <td>5</td>\n",
       "      <td>2</td>\n",
       "      <td>0</td>\n",
       "      <td>1</td>\n",
       "      <td>0</td>\n",
       "      <td>1</td>\n",
       "      <td>1</td>\n",
       "    </tr>\n",
       "    <tr>\n",
       "      <th>4</th>\n",
       "      <td>4</td>\n",
       "      <td>14</td>\n",
       "      <td>11</td>\n",
       "      <td>0</td>\n",
       "      <td>1</td>\n",
       "      <td>0</td>\n",
       "      <td>2</td>\n",
       "      <td>1</td>\n",
       "    </tr>\n",
       "  </tbody>\n",
       "</table>\n",
       "</div>"
      ],
      "text/plain": [
       "   AgeLvl  EducationLvl  OccupationLvl  RelationshipLvl  SexLvl  \\\n",
       "0       3            10              4                0       1   \n",
       "1       1            10              7                1       0   \n",
       "2       1            10             13                0       1   \n",
       "3       2             5              2                0       1   \n",
       "4       4            14             11                0       1   \n",
       "\n",
       "   InvestmentIncomeLvl  HoursPerWeekLvl  IncomeBracketLvl  \n",
       "0                    0                1                 1  \n",
       "1                    0                1                 1  \n",
       "2                    0                1                 0  \n",
       "3                    0                1                 1  \n",
       "4                    0                2                 1  "
      ]
     },
     "execution_count": 37,
     "metadata": {},
     "output_type": "execute_result"
    }
   ],
   "source": [
    "dataset[\"InvestmentIncomeLvl\"] = dataset[\"InvestmentIncomeLvl\"].astype('int8')\n",
    "dataset_model['InvestmentIncomeLvl'] = dataset[\"InvestmentIncomeLvl\"]\n",
    "dataset_model = dataset_model[['AgeLvl','EducationLvl','OccupationLvl','RelationshipLvl','SexLvl','InvestmentIncomeLvl',\n",
    "                               'HoursPerWeekLvl','IncomeBracketLvl']]\n",
    "dataset_model.head()"
   ]
  },
  {
   "cell_type": "markdown",
   "metadata": {
    "collapsed": true
   },
   "source": [
    "## 5.0 Model Implementation"
   ]
  },
  {
   "cell_type": "markdown",
   "metadata": {},
   "source": [
    "The step below splits the dataset_model into the features and the response."
   ]
  },
  {
   "cell_type": "code",
   "execution_count": 38,
   "metadata": {
    "collapsed": false
   },
   "outputs": [],
   "source": [
    "x = dataset_model[dataset_model.columns[0:6]]\n",
    "y = dataset_model[dataset_model.columns[7]]"
   ]
  },
  {
   "cell_type": "markdown",
   "metadata": {},
   "source": [
    "### 5.1 k-Nearest Neighbor Classifier (kNN)"
   ]
  },
  {
   "cell_type": "markdown",
   "metadata": {},
   "source": [
    "This classifier uses the training samples to make the prediction. It basically uses the points closest to the sample in question to make a prediction. The number of samples it uses depends on the k-value. Once it knows its neighbors it sees which class is most dominant within the radius and then says okay the sample must be the dominant class. <br><br>Pro:<br>This is a very simple classifier and does not require a training phase. As well, it is robust to noisy data. <br><br>Con:<br> Need to determine proper k-value. If a low k-value is used, then there may be not enough comparison. If a high k-value is used, then unnecessary points are there. This means that neighbors that are nothing alike will be used and can mess up the prediction. Also, the computation-cost of this algorithm can be high. <br><br>Why?<br> I chose this algorithm because it is simple to use. It does not require a learning phase. Also for this dataset, where there are so many samples and features a classifier like this can be useful. "
   ]
  },
  {
   "cell_type": "code",
   "execution_count": 39,
   "metadata": {
    "collapsed": false,
    "scrolled": true
   },
   "outputs": [
    {
     "name": "stdout",
     "output_type": "stream",
     "text": [
      "[ 0.77415086  0.78022948  0.76831421  0.78464254  0.76566637  0.77184466\n",
      "  0.7607064   0.76766784  0.77208481  0.77120141]\n",
      "0.771650858944\n"
     ]
    }
   ],
   "source": [
    "knn = KNeighborsClassifier(n_neighbors=10)\n",
    "scores_knn = cross_val_score(knn, x, y, cv=10, scoring='accuracy')\n",
    "print(scores_knn)\n",
    "print(scores_knn.mean())"
   ]
  },
  {
   "cell_type": "markdown",
   "metadata": {},
   "source": [
    "The accuracy across the folds are very close with some areas having better results. This is probably due to the way the data is spread out in these folds. As well the kNN does not have a learning phase so it is dependent on the fold more."
   ]
  },
  {
   "cell_type": "markdown",
   "metadata": {},
   "source": [
    "### 5.2 Logistic Regression"
   ]
  },
  {
   "cell_type": "markdown",
   "metadata": {},
   "source": [
    "Logistic Regression is similar to linear regression because It uses a line of best fit to make predictions. But instead it uses a non-linear function and takes the form of the sigmoid function. With this function and a decision boundary it can classify new data points and make predictions similar to linear regression.<br><br>Pro:<br> The advantages of this classifier is that this classifier is prone to less over-fitting and can be really fast. As well it can be updated easily. <br><br>Con:<br> The disadvantages are that it works best for a single decision boundary and not ideal for complex cases. <br><br>Why?<br> I used this classifier because of its speed and the fact that it is less likely to over-fit. Which for a dataset and number of features like this it is possible. As well, to see how it performs if it has to classify between three classes and if there is a drop off compared to the rest. "
   ]
  },
  {
   "cell_type": "code",
   "execution_count": 40,
   "metadata": {
    "collapsed": false
   },
   "outputs": [
    {
     "name": "stdout",
     "output_type": "stream",
     "text": [
      "[ 0.77018086  0.76478376  0.77096205  0.7674316   0.77537511  0.77405119\n",
      "  0.76379691  0.7725265   0.77385159  0.78224382]\n",
      "0.771520338035\n"
     ]
    }
   ],
   "source": [
    "lr = LogisticRegression()\n",
    "scores_lr = cross_val_score(lr, x, y, cv=10, scoring='accuracy')\n",
    "print(scores_lr)\n",
    "print(scores_lr.mean())"
   ]
  },
  {
   "cell_type": "markdown",
   "metadata": {},
   "source": [
    "This classifier has a more consistent accuracy across each fold and it is because this classifier uses a 'line' of best method which will be very similar for each fold."
   ]
  },
  {
   "cell_type": "markdown",
   "metadata": {},
   "source": [
    "### 5.3 Random Forest Classifier"
   ]
  },
  {
   "cell_type": "markdown",
   "metadata": {},
   "source": [
    "This classifier uses decision trees to make predictions. Essentially it creates a bunch of trees which try to expand as much as they are allowed too. Then each tree places a vote on which class the sample in question is. After that it makes its decision based on the highest vote. <br><br>Pro: The advantages to this classifier are that it will not overfit the model and that it can handle large datasets with high dimensionality. It can also handle missing values and still maintain its accuracy. <br><br>Con:<br>This classifier can not be controlled on what it does and thus that is disadvantage. <br><br>Why?<br> Random Forest Classifier was used because the dataset is large and there are many features. Also, it is excellent for classification and it will not overfit the model.  "
   ]
  },
  {
   "cell_type": "code",
   "execution_count": 41,
   "metadata": {
    "collapsed": false,
    "scrolled": true
   },
   "outputs": [
    {
     "name": "stdout",
     "output_type": "stream",
     "text": [
      "[ 0.77679753  0.78067079  0.78022948  0.78464254  0.77978817  0.78729038\n",
      "  0.77350993  0.7844523   0.77915194  0.78268551]\n",
      "0.780921857542\n"
     ]
    }
   ],
   "source": [
    "rfc = RandomForestClassifier()\n",
    "scores_rfc = cross_val_score(rfc, x, y, cv=10, scoring='accuracy')\n",
    "print(scores_rfc)\n",
    "print(scores_rfc.mean())"
   ]
  },
  {
   "cell_type": "markdown",
   "metadata": {},
   "source": [
    "This classifier has a more consistent accuracy accross each fold and it is because this classifier will have the same trees with just very slight changes in probability."
   ]
  },
  {
   "cell_type": "markdown",
   "metadata": {},
   "source": [
    "### 5.4 Gradient Boosting Classifier"
   ]
  },
  {
   "cell_type": "markdown",
   "metadata": {},
   "source": [
    "This classifier uses decision trees to make predictions. However, instead of fully growing the tree it creates stump like trees. It bases the trees on weak learners and aims to lower biases. <br><br>Pro: The advantages to this classifier are that it will not underfit the model. <br> <br>Con:<br> The disadvantages are that it takes long time to compute and it is prone to overfitting. <br><br>Why?<br> I used this classifier because it is the opposite of Random Forest in how it works, and it will decrease the bias of some of the features. As well, in some cases this has performed better than Random Forest as stated by other sources."
   ]
  },
  {
   "cell_type": "code",
   "execution_count": 42,
   "metadata": {
    "collapsed": false
   },
   "outputs": [
    {
     "name": "stdout",
     "output_type": "stream",
     "text": [
      "[ 0.79003088  0.79655781  0.79214475  0.79655781  0.79390997  0.7961165\n",
      "  0.78013245  0.79019435  0.795053    0.79461131]\n",
      "0.792530883446\n"
     ]
    }
   ],
   "source": [
    "gbc = GradientBoostingClassifier()\n",
    "scores_gbc = cross_val_score(gbc, x, y, cv=10, scoring='accuracy')\n",
    "print(scores_gbc)\n",
    "print(scores_gbc.mean())"
   ]
  },
  {
   "cell_type": "markdown",
   "metadata": {},
   "source": [
    "This classifier has a more consistent accuracy across each fold and it is because this classifier will have the same trees with just very slight changes in probability."
   ]
  },
  {
   "cell_type": "markdown",
   "metadata": {},
   "source": [
    "## 6.0 Model Tuning"
   ]
  },
  {
   "cell_type": "markdown",
   "metadata": {},
   "source": [
    "### 6.1 Grid Search"
   ]
  },
  {
   "cell_type": "markdown",
   "metadata": {},
   "source": [
    "#### 6.1.1 k-Nearest Neighbor Classifier (kNN)"
   ]
  },
  {
   "cell_type": "markdown",
   "metadata": {},
   "source": [
    "The parameters chosen for grid search for kNN are the k-value and weight options. K-value is used because it relates how many neighbours to find and weight is how the neighbours are found. "
   ]
  },
  {
   "cell_type": "code",
   "execution_count": 43,
   "metadata": {
    "collapsed": false,
    "scrolled": true
   },
   "outputs": [
    {
     "name": "stdout",
     "output_type": "stream",
     "text": [
      "{'weights': ['uniform', 'distance'], 'n_neighbors': [1, 2, 3, 4, 5, 6, 7, 8, 9, 10, 11, 12, 13, 14, 15, 16, 17, 18, 19, 20]}\n",
      "0.7803919837556281\n",
      "{'weights': 'uniform', 'n_neighbors': 18}\n"
     ]
    }
   ],
   "source": [
    "k_range = list(range(1, 21))\n",
    "weight_options = ['uniform', 'distance']\n",
    "param_grid = dict(n_neighbors=k_range, weights=weight_options)\n",
    "print(param_grid)\n",
    "grid_knn = GridSearchCV(knn, param_grid, cv=10, scoring='accuracy')\n",
    "grid_knn.fit(x, y)\n",
    "print(grid_knn.best_score_)\n",
    "print(grid_knn.best_params_)"
   ]
  },
  {
   "cell_type": "code",
   "execution_count": 44,
   "metadata": {
    "collapsed": false
   },
   "outputs": [
    {
     "data": {
      "text/plain": [
       "[mean: 0.71811, std: 0.00992, params: {'weights': 'uniform', 'n_neighbors': 1},\n",
       " mean: 0.71811, std: 0.00992, params: {'weights': 'distance', 'n_neighbors': 1},\n",
       " mean: 0.71462, std: 0.00911, params: {'weights': 'uniform', 'n_neighbors': 2},\n",
       " mean: 0.71511, std: 0.00923, params: {'weights': 'distance', 'n_neighbors': 2},\n",
       " mean: 0.75060, std: 0.00498, params: {'weights': 'uniform', 'n_neighbors': 3},\n",
       " mean: 0.74715, std: 0.00530, params: {'weights': 'distance', 'n_neighbors': 3},\n",
       " mean: 0.74777, std: 0.00411, params: {'weights': 'uniform', 'n_neighbors': 4},\n",
       " mean: 0.74464, std: 0.00501, params: {'weights': 'distance', 'n_neighbors': 4},\n",
       " mean: 0.76282, std: 0.00601, params: {'weights': 'uniform', 'n_neighbors': 5},\n",
       " mean: 0.75806, std: 0.00522, params: {'weights': 'distance', 'n_neighbors': 5},\n",
       " mean: 0.76574, std: 0.00457, params: {'weights': 'uniform', 'n_neighbors': 6},\n",
       " mean: 0.76115, std: 0.00454, params: {'weights': 'distance', 'n_neighbors': 6},\n",
       " mean: 0.76746, std: 0.00604, params: {'weights': 'uniform', 'n_neighbors': 7},\n",
       " mean: 0.76282, std: 0.00572, params: {'weights': 'distance', 'n_neighbors': 7},\n",
       " mean: 0.76909, std: 0.00602, params: {'weights': 'uniform', 'n_neighbors': 8},\n",
       " mean: 0.76371, std: 0.00520, params: {'weights': 'distance', 'n_neighbors': 8},\n",
       " mean: 0.77024, std: 0.00654, params: {'weights': 'uniform', 'n_neighbors': 9},\n",
       " mean: 0.76547, std: 0.00547, params: {'weights': 'distance', 'n_neighbors': 9},\n",
       " mean: 0.77165, std: 0.00657, params: {'weights': 'uniform', 'n_neighbors': 10},\n",
       " mean: 0.76618, std: 0.00478, params: {'weights': 'distance', 'n_neighbors': 10},\n",
       " mean: 0.77293, std: 0.00724, params: {'weights': 'uniform', 'n_neighbors': 11},\n",
       " mean: 0.76852, std: 0.00632, params: {'weights': 'distance', 'n_neighbors': 11},\n",
       " mean: 0.77479, std: 0.00700, params: {'weights': 'uniform', 'n_neighbors': 12},\n",
       " mean: 0.76975, std: 0.00630, params: {'weights': 'distance', 'n_neighbors': 12},\n",
       " mean: 0.77421, std: 0.00633, params: {'weights': 'uniform', 'n_neighbors': 13},\n",
       " mean: 0.76927, std: 0.00493, params: {'weights': 'distance', 'n_neighbors': 13},\n",
       " mean: 0.77479, std: 0.00596, params: {'weights': 'uniform', 'n_neighbors': 14},\n",
       " mean: 0.77006, std: 0.00526, params: {'weights': 'distance', 'n_neighbors': 14},\n",
       " mean: 0.77629, std: 0.00517, params: {'weights': 'uniform', 'n_neighbors': 15},\n",
       " mean: 0.77143, std: 0.00450, params: {'weights': 'distance', 'n_neighbors': 15},\n",
       " mean: 0.77783, std: 0.00509, params: {'weights': 'uniform', 'n_neighbors': 16},\n",
       " mean: 0.77240, std: 0.00497, params: {'weights': 'distance', 'n_neighbors': 16},\n",
       " mean: 0.77818, std: 0.00537, params: {'weights': 'uniform', 'n_neighbors': 17},\n",
       " mean: 0.77377, std: 0.00441, params: {'weights': 'distance', 'n_neighbors': 17},\n",
       " mean: 0.78039, std: 0.00530, params: {'weights': 'uniform', 'n_neighbors': 18},\n",
       " mean: 0.77562, std: 0.00472, params: {'weights': 'distance', 'n_neighbors': 18},\n",
       " mean: 0.77955, std: 0.00534, params: {'weights': 'uniform', 'n_neighbors': 19},\n",
       " mean: 0.77509, std: 0.00377, params: {'weights': 'distance', 'n_neighbors': 19},\n",
       " mean: 0.78008, std: 0.00519, params: {'weights': 'uniform', 'n_neighbors': 20},\n",
       " mean: 0.77562, std: 0.00417, params: {'weights': 'distance', 'n_neighbors': 20}]"
      ]
     },
     "execution_count": 44,
     "metadata": {},
     "output_type": "execute_result"
    }
   ],
   "source": [
    "grid_knn.grid_scores_"
   ]
  },
  {
   "cell_type": "markdown",
   "metadata": {},
   "source": [
    "#### 6.1.2 Logistic Regression"
   ]
  },
  {
   "cell_type": "markdown",
   "metadata": {},
   "source": [
    "The parameters chosen for grid search for Logistic Regression is the solver option because some solvers may produce better results and are better for certain types of data. "
   ]
  },
  {
   "cell_type": "code",
   "execution_count": 45,
   "metadata": {
    "collapsed": false
   },
   "outputs": [
    {
     "name": "stdout",
     "output_type": "stream",
     "text": [
      "{'solver': ['newton-cg', 'lbfgs', 'liblinear', 'sag', 'saga']}\n"
     ]
    },
    {
     "name": "stderr",
     "output_type": "stream",
     "text": [
      "/usr/local/lib/python3.5/dist-packages/scipy/optimize/linesearch.py:285: LineSearchWarning: The line search algorithm did not converge\n",
      "  warn('The line search algorithm did not converge', LineSearchWarning)\n",
      "/usr/local/lib/python3.5/dist-packages/sklearn/utils/optimize.py:195: UserWarning: Line Search failed\n",
      "  warnings.warn('Line Search failed')\n"
     ]
    },
    {
     "name": "stdout",
     "output_type": "stream",
     "text": [
      "0.7720490862540832\n",
      "{'solver': 'newton-cg'}\n"
     ]
    }
   ],
   "source": [
    "solver_options = ['newton-cg', 'lbfgs', 'liblinear', 'sag', 'saga']\n",
    "param_grid = dict(solver=solver_options)\n",
    "print(param_grid)\n",
    "grid_lr = GridSearchCV(lr, param_grid, cv=10, scoring='accuracy')\n",
    "grid_lr.fit(x, y)\n",
    "print(grid_lr.best_score_)\n",
    "print(grid_lr.best_params_)"
   ]
  },
  {
   "cell_type": "code",
   "execution_count": 46,
   "metadata": {
    "collapsed": false
   },
   "outputs": [
    {
     "data": {
      "text/plain": [
       "[mean: 0.77205, std: 0.00447, params: {'solver': 'newton-cg'},\n",
       " mean: 0.77205, std: 0.00447, params: {'solver': 'lbfgs'},\n",
       " mean: 0.77152, std: 0.00516, params: {'solver': 'liblinear'},\n",
       " mean: 0.77205, std: 0.00447, params: {'solver': 'sag'},\n",
       " mean: 0.77205, std: 0.00447, params: {'solver': 'saga'}]"
      ]
     },
     "execution_count": 46,
     "metadata": {},
     "output_type": "execute_result"
    }
   ],
   "source": [
    "grid_lr.grid_scores_"
   ]
  },
  {
   "cell_type": "markdown",
   "metadata": {},
   "source": [
    "#### 6.1.3 Random Forest Classifier"
   ]
  },
  {
   "cell_type": "markdown",
   "metadata": {},
   "source": [
    "The parameters chosen for grid search for random forest classifier are the max depth and n_estimator. Max depth controls how large the tree is allowed to grow and n_estimator is the number of trees allowed. "
   ]
  },
  {
   "cell_type": "code",
   "execution_count": 47,
   "metadata": {
    "collapsed": false
   },
   "outputs": [
    {
     "name": "stdout",
     "output_type": "stream",
     "text": [
      "{'max_depth': [1, 2, 3, 4, 5, 6, 7, 8, 9, 10, 11, 12, 13, 14, 15, 16, 17, 18, 19, 20, 21, 22, 23, 24, 25, 26, 27, 28, 29, 30], 'n_estimators': [10, 11]}\n",
      "0.7898825814425708\n",
      "{'max_depth': 8, 'n_estimators': 11}\n"
     ]
    }
   ],
   "source": [
    "max_depth_range = list(range(1,31))\n",
    "n_est_range = list(range(10,12))\n",
    "param_grid = dict(max_depth = max_depth_range, n_estimators = n_est_range)\n",
    "print(param_grid)\n",
    "grid_rfc = GridSearchCV(rfc, param_grid, cv=10, scoring='accuracy')\n",
    "grid_rfc.fit(x, y)\n",
    "print(grid_rfc.best_score_)\n",
    "print(grid_rfc.best_params_)"
   ]
  },
  {
   "cell_type": "code",
   "execution_count": 48,
   "metadata": {
    "collapsed": false
   },
   "outputs": [
    {
     "data": {
      "text/plain": [
       "[mean: 0.74834, std: 0.00472, params: {'max_depth': 1, 'n_estimators': 10},\n",
       " mean: 0.74605, std: 0.00029, params: {'max_depth': 1, 'n_estimators': 11},\n",
       " mean: 0.75903, std: 0.00882, params: {'max_depth': 2, 'n_estimators': 10},\n",
       " mean: 0.75956, std: 0.00892, params: {'max_depth': 2, 'n_estimators': 11},\n",
       " mean: 0.76953, std: 0.01198, params: {'max_depth': 3, 'n_estimators': 10},\n",
       " mean: 0.77704, std: 0.00691, params: {'max_depth': 3, 'n_estimators': 11},\n",
       " mean: 0.78251, std: 0.00435, params: {'max_depth': 4, 'n_estimators': 10},\n",
       " mean: 0.78264, std: 0.00553, params: {'max_depth': 4, 'n_estimators': 11},\n",
       " mean: 0.78662, std: 0.00432, params: {'max_depth': 5, 'n_estimators': 10},\n",
       " mean: 0.78745, std: 0.00504, params: {'max_depth': 5, 'n_estimators': 11},\n",
       " mean: 0.78882, std: 0.00372, params: {'max_depth': 6, 'n_estimators': 10},\n",
       " mean: 0.78816, std: 0.00546, params: {'max_depth': 6, 'n_estimators': 11},\n",
       " mean: 0.78949, std: 0.00488, params: {'max_depth': 7, 'n_estimators': 10},\n",
       " mean: 0.78843, std: 0.00389, params: {'max_depth': 7, 'n_estimators': 11},\n",
       " mean: 0.78856, std: 0.00384, params: {'max_depth': 8, 'n_estimators': 10},\n",
       " mean: 0.78988, std: 0.00531, params: {'max_depth': 8, 'n_estimators': 11},\n",
       " mean: 0.78904, std: 0.00389, params: {'max_depth': 9, 'n_estimators': 10},\n",
       " mean: 0.78834, std: 0.00307, params: {'max_depth': 9, 'n_estimators': 11},\n",
       " mean: 0.78723, std: 0.00326, params: {'max_depth': 10, 'n_estimators': 10},\n",
       " mean: 0.78807, std: 0.00343, params: {'max_depth': 10, 'n_estimators': 11},\n",
       " mean: 0.78644, std: 0.00328, params: {'max_depth': 11, 'n_estimators': 10},\n",
       " mean: 0.78644, std: 0.00305, params: {'max_depth': 11, 'n_estimators': 11},\n",
       " mean: 0.78534, std: 0.00305, params: {'max_depth': 12, 'n_estimators': 10},\n",
       " mean: 0.78595, std: 0.00310, params: {'max_depth': 12, 'n_estimators': 11},\n",
       " mean: 0.78370, std: 0.00375, params: {'max_depth': 13, 'n_estimators': 10},\n",
       " mean: 0.78582, std: 0.00379, params: {'max_depth': 13, 'n_estimators': 11},\n",
       " mean: 0.78445, std: 0.00336, params: {'max_depth': 14, 'n_estimators': 10},\n",
       " mean: 0.78308, std: 0.00240, params: {'max_depth': 14, 'n_estimators': 11},\n",
       " mean: 0.78282, std: 0.00258, params: {'max_depth': 15, 'n_estimators': 10},\n",
       " mean: 0.78344, std: 0.00267, params: {'max_depth': 15, 'n_estimators': 11},\n",
       " mean: 0.78075, std: 0.00352, params: {'max_depth': 16, 'n_estimators': 10},\n",
       " mean: 0.78079, std: 0.00378, params: {'max_depth': 16, 'n_estimators': 11},\n",
       " mean: 0.78136, std: 0.00320, params: {'max_depth': 17, 'n_estimators': 10},\n",
       " mean: 0.78163, std: 0.00496, params: {'max_depth': 17, 'n_estimators': 11},\n",
       " mean: 0.78172, std: 0.00421, params: {'max_depth': 18, 'n_estimators': 10},\n",
       " mean: 0.78194, std: 0.00494, params: {'max_depth': 18, 'n_estimators': 11},\n",
       " mean: 0.78220, std: 0.00377, params: {'max_depth': 19, 'n_estimators': 10},\n",
       " mean: 0.78075, std: 0.00278, params: {'max_depth': 19, 'n_estimators': 11},\n",
       " mean: 0.78030, std: 0.00356, params: {'max_depth': 20, 'n_estimators': 10},\n",
       " mean: 0.78075, std: 0.00490, params: {'max_depth': 20, 'n_estimators': 11},\n",
       " mean: 0.78088, std: 0.00325, params: {'max_depth': 21, 'n_estimators': 10},\n",
       " mean: 0.78097, std: 0.00270, params: {'max_depth': 21, 'n_estimators': 11},\n",
       " mean: 0.77991, std: 0.00239, params: {'max_depth': 22, 'n_estimators': 10},\n",
       " mean: 0.78075, std: 0.00418, params: {'max_depth': 22, 'n_estimators': 11},\n",
       " mean: 0.78273, std: 0.00397, params: {'max_depth': 23, 'n_estimators': 10},\n",
       " mean: 0.78101, std: 0.00435, params: {'max_depth': 23, 'n_estimators': 11},\n",
       " mean: 0.77951, std: 0.00224, params: {'max_depth': 24, 'n_estimators': 10},\n",
       " mean: 0.78198, std: 0.00347, params: {'max_depth': 24, 'n_estimators': 11},\n",
       " mean: 0.78233, std: 0.00408, params: {'max_depth': 25, 'n_estimators': 10},\n",
       " mean: 0.78145, std: 0.00282, params: {'max_depth': 25, 'n_estimators': 11},\n",
       " mean: 0.78044, std: 0.00294, params: {'max_depth': 26, 'n_estimators': 10},\n",
       " mean: 0.77999, std: 0.00416, params: {'max_depth': 26, 'n_estimators': 11},\n",
       " mean: 0.78114, std: 0.00454, params: {'max_depth': 27, 'n_estimators': 10},\n",
       " mean: 0.78110, std: 0.00318, params: {'max_depth': 27, 'n_estimators': 11},\n",
       " mean: 0.78136, std: 0.00230, params: {'max_depth': 28, 'n_estimators': 10},\n",
       " mean: 0.78057, std: 0.00337, params: {'max_depth': 28, 'n_estimators': 11},\n",
       " mean: 0.77871, std: 0.00329, params: {'max_depth': 29, 'n_estimators': 10},\n",
       " mean: 0.78048, std: 0.00329, params: {'max_depth': 29, 'n_estimators': 11},\n",
       " mean: 0.78061, std: 0.00350, params: {'max_depth': 30, 'n_estimators': 10},\n",
       " mean: 0.78132, std: 0.00336, params: {'max_depth': 30, 'n_estimators': 11}]"
      ]
     },
     "execution_count": 48,
     "metadata": {},
     "output_type": "execute_result"
    }
   ],
   "source": [
    "grid_rfc.grid_scores_"
   ]
  },
  {
   "cell_type": "markdown",
   "metadata": {},
   "source": [
    "#### 6.1.4 Gradient Boosting Classifier"
   ]
  },
  {
   "cell_type": "markdown",
   "metadata": {},
   "source": [
    "The parameters chosen for grid search for gradient boosting classifier are the max depth and n_estimator. Max depth controls how large the tree is allowed to grow and n_estimator is the number of trees allowed. "
   ]
  },
  {
   "cell_type": "code",
   "execution_count": 49,
   "metadata": {
    "collapsed": false
   },
   "outputs": [
    {
     "name": "stdout",
     "output_type": "stream",
     "text": [
      "{'max_depth': [1, 2], 'n_estimators': [100, 101, 102, 103]}\n",
      "0.7908978546834996\n",
      "{'max_depth': 2, 'n_estimators': 102}\n"
     ]
    }
   ],
   "source": [
    "max_depth_range = list(range(1,3))\n",
    "n_est_range = list(range(100,104))\n",
    "param_grid = dict(max_depth = max_depth_range, n_estimators = n_est_range)\n",
    "print(param_grid)\n",
    "grid_gbc = GridSearchCV(gbc, param_grid, cv=10, scoring='accuracy')\n",
    "grid_gbc.fit(x, y)\n",
    "print(grid_gbc.best_score_)\n",
    "print(grid_gbc.best_params_)"
   ]
  },
  {
   "cell_type": "code",
   "execution_count": 50,
   "metadata": {
    "collapsed": false
   },
   "outputs": [
    {
     "data": {
      "text/plain": [
       "[mean: 0.78697, std: 0.00408, params: {'max_depth': 1, 'n_estimators': 100},\n",
       " mean: 0.78697, std: 0.00408, params: {'max_depth': 1, 'n_estimators': 101},\n",
       " mean: 0.78693, std: 0.00404, params: {'max_depth': 1, 'n_estimators': 102},\n",
       " mean: 0.78693, std: 0.00404, params: {'max_depth': 1, 'n_estimators': 103},\n",
       " mean: 0.79072, std: 0.00474, params: {'max_depth': 2, 'n_estimators': 100},\n",
       " mean: 0.79072, std: 0.00474, params: {'max_depth': 2, 'n_estimators': 101},\n",
       " mean: 0.79090, std: 0.00474, params: {'max_depth': 2, 'n_estimators': 102},\n",
       " mean: 0.79077, std: 0.00451, params: {'max_depth': 2, 'n_estimators': 103}]"
      ]
     },
     "execution_count": 50,
     "metadata": {},
     "output_type": "execute_result"
    }
   ],
   "source": [
    "grid_gbc.grid_scores_"
   ]
  },
  {
   "cell_type": "markdown",
   "metadata": {},
   "source": [
    "### 6.2 Confusion Matrix"
   ]
  },
  {
   "cell_type": "markdown",
   "metadata": {},
   "source": [
    "Using the optimal parameters found. A confusion matrix was used to find the true positive rate and false positive rate. "
   ]
  },
  {
   "cell_type": "markdown",
   "metadata": {},
   "source": [
    "#### 6.2.1 k-Nearest Neighbor Classifier (kNN)"
   ]
  },
  {
   "cell_type": "code",
   "execution_count": 51,
   "metadata": {
    "collapsed": false
   },
   "outputs": [
    {
     "data": {
      "text/plain": [
       "array([[ 1752,  2038,    47],\n",
       "       [  871, 15987,    43],\n",
       "       [  768,  1071,    77]])"
      ]
     },
     "execution_count": 51,
     "metadata": {},
     "output_type": "execute_result"
    }
   ],
   "source": [
    "knn = KNeighborsClassifier(n_neighbors=18,weights='uniform')\n",
    "knn.fit(x, y)\n",
    "knn_pred = knn.predict(x)\n",
    "confusion_knn = metrics.confusion_matrix(y, knn_pred)\n",
    "confusion_knn"
   ]
  },
  {
   "cell_type": "markdown",
   "metadata": {},
   "source": [
    "#### 6.2.2 Logistic Regression"
   ]
  },
  {
   "cell_type": "code",
   "execution_count": 52,
   "metadata": {
    "collapsed": false
   },
   "outputs": [
    {
     "data": {
      "text/plain": [
       "array([[ 1049,  2788,     0],\n",
       "       [  471, 16430,     0],\n",
       "       [  519,  1397,     0]])"
      ]
     },
     "execution_count": 52,
     "metadata": {},
     "output_type": "execute_result"
    }
   ],
   "source": [
    "lr = LogisticRegression(solver='newton-cg')\n",
    "lr.fit(x, y)\n",
    "lr_pred = lr.predict(x)\n",
    "confusion_lr = metrics.confusion_matrix(y, lr_pred)\n",
    "confusion_lr"
   ]
  },
  {
   "cell_type": "markdown",
   "metadata": {},
   "source": [
    "#### 6.2.3 Random Forest Classifier"
   ]
  },
  {
   "cell_type": "code",
   "execution_count": 53,
   "metadata": {
    "collapsed": false
   },
   "outputs": [
    {
     "data": {
      "text/plain": [
       "array([[ 1630,  2204,     3],\n",
       "       [  606, 16295,     0],\n",
       "       [  771,  1114,    31]])"
      ]
     },
     "execution_count": 53,
     "metadata": {},
     "output_type": "execute_result"
    }
   ],
   "source": [
    "rfc = RandomForestClassifier(n_estimators=11,max_depth=7)\n",
    "rfc.fit(x, y)\n",
    "rfc_pred = rfc.predict(x)\n",
    "confusion_rfc = metrics.confusion_matrix(y, rfc_pred)\n",
    "confusion_rfc"
   ]
  },
  {
   "cell_type": "markdown",
   "metadata": {},
   "source": [
    "#### 6.2.4 Gradient Boosting Classifier"
   ]
  },
  {
   "cell_type": "code",
   "execution_count": 54,
   "metadata": {
    "collapsed": false
   },
   "outputs": [
    {
     "data": {
      "text/plain": [
       "array([[ 1766,  2069,     2],\n",
       "       [  730, 16170,     1],\n",
       "       [  882,  1028,     6]])"
      ]
     },
     "execution_count": 54,
     "metadata": {},
     "output_type": "execute_result"
    }
   ],
   "source": [
    "gbc = GradientBoostingClassifier(n_estimators=102,max_depth=2)\n",
    "gbc.fit(x, y)\n",
    "gbc_pred = gbc.predict(x)\n",
    "confusion_gbc = metrics.confusion_matrix(y, gbc_pred)\n",
    "confusion_gbc"
   ]
  },
  {
   "cell_type": "markdown",
   "metadata": {},
   "source": [
    "### 6.3 Optimal Model"
   ]
  },
  {
   "cell_type": "markdown",
   "metadata": {},
   "source": [
    "The optimal model is the Random Forest Classifier. It has the second highest accuracy calculated from the k-fold cross validation and grid search. However, the grid search is just slightly below the most accurate classifier which is the Gradient Boosting Classifier. On the other hand, Random Forest Classifier has a higher true positive for less than 50k class and greater than 100k class when compared to Gradient Boosting Classifier. Therefore, it is the optimal model.<br> <br> Grid search accuracy and confusion matrix were used because they can show the whole picture together. Grid search shows how well the model is accurate between 10-folds of the data and which parameters are optimal. This covers the fact that the model behaves well with the data. However, the confusion matrix shows how much of each class did the classifier get right thus allowing for a deeper look at accuracy. This is ideal because the optimal model should predict more classes correctly at higher rate and not just the overall dataset. Then this measure can be compared with the accuracy to see the trade-off between each of the four models. Thus, as stated above the Random Forest Classifier was chosen because it performed consistently better even within the deeper analysis. "
   ]
  },
  {
   "cell_type": "markdown",
   "metadata": {
    "collapsed": true
   },
   "source": [
    "## 7.0 Testing"
   ]
  },
  {
   "cell_type": "markdown",
   "metadata": {},
   "source": [
    "### 7.1 Import and Clean Test Data"
   ]
  },
  {
   "cell_type": "markdown",
   "metadata": {},
   "source": [
    "_Note that for the file to be read it must be present within the workbench with the exact same name._"
   ]
  },
  {
   "cell_type": "code",
   "execution_count": 55,
   "metadata": {
    "collapsed": false
   },
   "outputs": [],
   "source": [
    "dataset_test = pd.read_csv('income-testing.csv')"
   ]
  },
  {
   "cell_type": "code",
   "execution_count": 56,
   "metadata": {
    "collapsed": true
   },
   "outputs": [],
   "source": [
    "dataset_test = dataset_test.dropna(subset=[\"Occupation\",\"WorkClass\"],thresh=1)\n",
    "dataset_test = dataset_test.dropna(subset=[\"MaritalStatus\",\"Relationship\"],thresh=1)\n",
    "dataset_test = dataset_test.dropna(subset=[\"Education\",\"EducationLvl\"],thresh=1)\n",
    "dataset_test = dataset_test.dropna(subset=[\"Age\"])\n",
    "dataset_test = dataset_test.dropna(subset=[\"FinalWeight\"])\n",
    "dataset_test = dataset_test.dropna(subset=[\"Race\"])\n",
    "dataset_test = dataset_test.dropna(subset=[\"Sex\"])\n",
    "dataset_test = dataset_test.dropna(subset=[\"CapitalGain\"])\n",
    "dataset_test = dataset_test.dropna(subset=[\"CapitalLoss\"])\n",
    "dataset_test = dataset_test.dropna(subset=[\"HoursPerWeek\"])\n",
    "dataset_test = dataset_test.dropna(subset=[\"NativeCountry\"])\n",
    "dataset_test = dataset_test.dropna(subset=[\"IncomeBracket\"])\n",
    "dataset_test = dataset_test.dropna(subset=[\"Occupation\"])\n",
    "dataset_test = dataset_test.dropna(subset=[\"WorkClass\"])\n",
    "dataset_test = dataset_test.dropna(subset=[\"MaritalStatus\"])\n",
    "dataset_test = dataset_test.dropna(subset=[\"Relationship\"])\n",
    "dataset_test = dataset_test.dropna(subset=[\"Education\"])\n",
    "dataset_test = dataset_test.dropna(subset=[\"EducationLvl\"])"
   ]
  },
  {
   "cell_type": "code",
   "execution_count": 57,
   "metadata": {
    "collapsed": true
   },
   "outputs": [],
   "source": [
    "dataset_test[\"WorkClass\"] = dataset_test[\"WorkClass\"].astype('category')\n",
    "dataset_test[\"WorkClassLvl\"] = dataset_test[\"WorkClass\"].astype('category').cat.codes\n",
    "dataset_test[\"MaritalStatus\"] = dataset_test[\"MaritalStatus\"].astype('category')\n",
    "dataset_test[\"MaritalStatusLvl\"] = dataset_test[\"MaritalStatus\"].astype('category').cat.codes\n",
    "dataset_test[\"Occupation\"] = dataset_test[\"Occupation\"].astype('category')\n",
    "dataset_test[\"OccupationLvl\"] = dataset_test[\"Occupation\"].astype('category').cat.codes\n",
    "dataset_test[\"Relationship\"] = dataset_test[\"Relationship\"].astype('category')\n",
    "dataset_test[\"RelationshipLvl\"] = dataset_test[\"Relationship\"].astype('category').cat.codes\n",
    "dataset_test[\"Race\"] = dataset_test[\"Race\"].astype('category')\n",
    "dataset_test[\"RaceLvl\"] = dataset_test[\"Race\"].astype('category').cat.codes\n",
    "dataset_test[\"Sex\"] = dataset_test[\"Sex\"].astype('category')\n",
    "dataset_test[\"SexLvl\"] = dataset_test[\"Sex\"].astype('category').cat.codes\n",
    "dataset_test[\"NativeCountry\"] = dataset_test[\"NativeCountry\"].astype('category')\n",
    "dataset_test[\"NativeCountryLvl\"] = dataset_test[\"NativeCountry\"].astype('category').cat.codes\n",
    "dataset_test[\"IncomeBracketLvl\"] = dataset_test[\"IncomeBracket\"].astype('category').cat.codes"
   ]
  },
  {
   "cell_type": "code",
   "execution_count": 58,
   "metadata": {
    "collapsed": true
   },
   "outputs": [],
   "source": [
    "dataset_test['AgeLvl'] = pd.cut(dataset_test['Age'], bins=[17,23,29,39,49,64,np.inf], labels=[0,1,2,3,4,5])\n",
    "dataset_test['HoursPerWeekLvl'] = pd.cut(dataset_test['HoursPerWeek'], bins=[0,20,40,60,80,np.inf], labels=[0,1,2,3,4])\n",
    "dataset_test['FinalWeightLvl'] = pd.cut(dataset_test['FinalWeight'], \n",
    "                                        bins=[0,150000,300000,450000,600000,1000000,np.inf], labels=[0,1,2,3,4,5])"
   ]
  },
  {
   "cell_type": "code",
   "execution_count": 59,
   "metadata": {
    "collapsed": false
   },
   "outputs": [],
   "source": [
    "dataset_test[\"AgeLvl\"] = dataset_test[\"AgeLvl\"].astype('int8')\n",
    "dataset_test[\"HoursPerWeekLvl\"] = dataset_test[\"HoursPerWeekLvl\"].astype('int8')\n",
    "dataset_test[\"FinalWeightLvl\"] = dataset_test[\"FinalWeightLvl\"].astype('int8')\n",
    "dataset_test['CapitalGainLvl'] = pd.cut(dataset_test['CapitalGain'], \n",
    "                                        bins=[0,10000,20000,30000,40000,50000,60000,70000,80000,90000,100000,np.inf],\n",
    "                                        labels=[0,1,2,3,4,5,6,7,8,9,10])\n",
    "dataset_test[\"CapitalGainLvl\"] = dataset_test[\"CapitalGainLvl\"].astype('int8')\n",
    "dataset_test['CapitalLossLvl'] = pd.cut(dataset_test['CapitalLoss'], \n",
    "                                        bins=[-np.inf,-100000,-90000,-80000,-70000,-60000,-50000,-40000,-30000,-20000,-10000,0],\n",
    "                                        labels=[0,1,2,3,4,5,6,7,8,9,10])\n",
    "dataset_test[\"CapitalLossLvl\"] = dataset_test[\"CapitalLossLvl\"].astype('int8')"
   ]
  },
  {
   "cell_type": "code",
   "execution_count": 60,
   "metadata": {
    "collapsed": false
   },
   "outputs": [
    {
     "data": {
      "text/plain": [
       "Age                    int64\n",
       "WorkClass           category\n",
       "FinalWeight            int64\n",
       "Education             object\n",
       "EducationLvl           int64\n",
       "MaritalStatus       category\n",
       "Occupation          category\n",
       "Relationship        category\n",
       "Race                category\n",
       "Sex                 category\n",
       "CapitalGain            int64\n",
       "CapitalLoss            int64\n",
       "HoursPerWeek           int64\n",
       "NativeCountry       category\n",
       "IncomeBracket         object\n",
       "WorkClassLvl            int8\n",
       "MaritalStatusLvl        int8\n",
       "OccupationLvl           int8\n",
       "RelationshipLvl         int8\n",
       "RaceLvl                 int8\n",
       "SexLvl                  int8\n",
       "NativeCountryLvl        int8\n",
       "IncomeBracketLvl        int8\n",
       "AgeLvl                  int8\n",
       "HoursPerWeekLvl         int8\n",
       "FinalWeightLvl          int8\n",
       "CapitalGainLvl          int8\n",
       "CapitalLossLvl          int8\n",
       "dtype: object"
      ]
     },
     "execution_count": 60,
     "metadata": {},
     "output_type": "execute_result"
    }
   ],
   "source": [
    "dataset_test.dtypes"
   ]
  },
  {
   "cell_type": "code",
   "execution_count": 61,
   "metadata": {
    "collapsed": true
   },
   "outputs": [],
   "source": [
    "dataset_model_test = dataset_test[['AgeLvl','WorkClassLvl','FinalWeightLvl','EducationLvl','MaritalStatusLvl','OccupationLvl',\n",
    "                                   'RelationshipLvl','RaceLvl','SexLvl','CapitalGainLvl','CapitalLossLvl','HoursPerWeekLvl',\n",
    "                                   'NativeCountryLvl','IncomeBracketLvl']]"
   ]
  },
  {
   "cell_type": "code",
   "execution_count": 62,
   "metadata": {
    "collapsed": true
   },
   "outputs": [],
   "source": [
    "dataset_model_test = dataset_model_test.drop('WorkClassLvl',1)\n",
    "dataset_model_test = dataset_model_test.drop('FinalWeightLvl',1)\n",
    "dataset_model_test = dataset_model_test.drop('MaritalStatusLvl',1)\n",
    "dataset_model_test = dataset_model_test.drop('RaceLvl',1)\n",
    "dataset_model_test = dataset_model_test.drop('CapitalGainLvl',1)\n",
    "dataset_model_test = dataset_model_test.drop('CapitalLossLvl',1)\n",
    "dataset_model_test = dataset_model_test.drop('NativeCountryLvl',1)"
   ]
  },
  {
   "cell_type": "code",
   "execution_count": 63,
   "metadata": {
    "collapsed": false
   },
   "outputs": [
    {
     "data": {
      "text/html": [
       "<div>\n",
       "<table border=\"1\" class=\"dataframe\">\n",
       "  <thead>\n",
       "    <tr style=\"text-align: right;\">\n",
       "      <th></th>\n",
       "      <th>AgeLvl</th>\n",
       "      <th>EducationLvl</th>\n",
       "      <th>OccupationLvl</th>\n",
       "      <th>RelationshipLvl</th>\n",
       "      <th>SexLvl</th>\n",
       "      <th>InvestmentIncomeLvl</th>\n",
       "      <th>HoursPerWeekLvl</th>\n",
       "      <th>IncomeBracketLvl</th>\n",
       "    </tr>\n",
       "  </thead>\n",
       "  <tbody>\n",
       "    <tr>\n",
       "      <th>0</th>\n",
       "      <td>4</td>\n",
       "      <td>10</td>\n",
       "      <td>11</td>\n",
       "      <td>5</td>\n",
       "      <td>0</td>\n",
       "      <td>0</td>\n",
       "      <td>1</td>\n",
       "      <td>0</td>\n",
       "    </tr>\n",
       "    <tr>\n",
       "      <th>1</th>\n",
       "      <td>2</td>\n",
       "      <td>13</td>\n",
       "      <td>7</td>\n",
       "      <td>2</td>\n",
       "      <td>1</td>\n",
       "      <td>0</td>\n",
       "      <td>2</td>\n",
       "      <td>1</td>\n",
       "    </tr>\n",
       "    <tr>\n",
       "      <th>2</th>\n",
       "      <td>1</td>\n",
       "      <td>13</td>\n",
       "      <td>7</td>\n",
       "      <td>1</td>\n",
       "      <td>0</td>\n",
       "      <td>0</td>\n",
       "      <td>1</td>\n",
       "      <td>1</td>\n",
       "    </tr>\n",
       "    <tr>\n",
       "      <th>3</th>\n",
       "      <td>1</td>\n",
       "      <td>13</td>\n",
       "      <td>13</td>\n",
       "      <td>2</td>\n",
       "      <td>1</td>\n",
       "      <td>0</td>\n",
       "      <td>1</td>\n",
       "      <td>1</td>\n",
       "    </tr>\n",
       "    <tr>\n",
       "      <th>4</th>\n",
       "      <td>0</td>\n",
       "      <td>9</td>\n",
       "      <td>7</td>\n",
       "      <td>2</td>\n",
       "      <td>0</td>\n",
       "      <td>0</td>\n",
       "      <td>1</td>\n",
       "      <td>1</td>\n",
       "    </tr>\n",
       "  </tbody>\n",
       "</table>\n",
       "</div>"
      ],
      "text/plain": [
       "   AgeLvl  EducationLvl  OccupationLvl  RelationshipLvl  SexLvl  \\\n",
       "0       4            10             11                5       0   \n",
       "1       2            13              7                2       1   \n",
       "2       1            13              7                1       0   \n",
       "3       1            13             13                2       1   \n",
       "4       0             9              7                2       0   \n",
       "\n",
       "   InvestmentIncomeLvl  HoursPerWeekLvl  IncomeBracketLvl  \n",
       "0                    0                1                 0  \n",
       "1                    0                2                 1  \n",
       "2                    0                1                 1  \n",
       "3                    0                1                 1  \n",
       "4                    0                1                 1  "
      ]
     },
     "execution_count": 63,
     "metadata": {},
     "output_type": "execute_result"
    }
   ],
   "source": [
    "dataset_test['InvestmentIncome'] = dataset_test['CapitalGain'] - dataset['CapitalLoss']\n",
    "dataset_test['InvestmentIncomeLvl'] = pd.cut(dataset_test['InvestmentIncome'], \n",
    "                                             bins=[0,10000,20000,30000,40000,50000,60000,70000,80000,90000,100000,np.inf],\n",
    "                                             labels=[0,1,2,3,4,5,6,7,8,9,10])\n",
    "dataset_test[\"InvestmentIncomeLvl\"] = dataset_test[\"InvestmentIncomeLvl\"].astype('int8')\n",
    "dataset_model_test['InvestmentIncomeLvl'] = dataset_test[\"InvestmentIncomeLvl\"]\n",
    "dataset_model_test = dataset_model_test[['AgeLvl','EducationLvl','OccupationLvl','RelationshipLvl','SexLvl',\n",
    "                                         'InvestmentIncomeLvl', 'HoursPerWeekLvl','IncomeBracketLvl']]\n",
    "dataset_model_test.head()"
   ]
  },
  {
   "cell_type": "markdown",
   "metadata": {},
   "source": [
    "### 7.2 Optimal Model Implementation"
   ]
  },
  {
   "cell_type": "code",
   "execution_count": 64,
   "metadata": {
    "collapsed": false
   },
   "outputs": [],
   "source": [
    "x_test = dataset_model_test[dataset_model_test.columns[0:6]]\n",
    "y_test = dataset_model_test[dataset_model_test.columns[7]]"
   ]
  },
  {
   "cell_type": "code",
   "execution_count": 65,
   "metadata": {
    "collapsed": false
   },
   "outputs": [
    {
     "data": {
      "text/plain": [
       "array([1, 1, 1, ..., 1, 1, 1], dtype=int8)"
      ]
     },
     "execution_count": 65,
     "metadata": {},
     "output_type": "execute_result"
    }
   ],
   "source": [
    "predicted = rfc.predict(x_test)\n",
    "predicted"
   ]
  },
  {
   "cell_type": "code",
   "execution_count": 66,
   "metadata": {
    "collapsed": false
   },
   "outputs": [
    {
     "data": {
      "text/plain": [
       "0.77704077120367909"
      ]
     },
     "execution_count": 66,
     "metadata": {},
     "output_type": "execute_result"
    }
   ],
   "source": [
    "metrics.accuracy_score(y_test, predicted)"
   ]
  },
  {
   "cell_type": "code",
   "execution_count": 67,
   "metadata": {
    "collapsed": false
   },
   "outputs": [
    {
     "data": {
      "text/plain": [
       "array([[ 755, 1124,   19],\n",
       "       [ 345, 8021,    2],\n",
       "       [ 397,  634,   10]])"
      ]
     },
     "execution_count": 67,
     "metadata": {},
     "output_type": "execute_result"
    }
   ],
   "source": [
    "metrics.confusion_matrix(y_test, predicted)"
   ]
  },
  {
   "cell_type": "markdown",
   "metadata": {},
   "source": [
    "### 7.3 Conclusion"
   ]
  },
  {
   "cell_type": "markdown",
   "metadata": {},
   "source": [
    "Question: How does model perform vs tested? <br>\n",
    "\n",
    "The model performs almost exactly like the training set. The accuracy is about 1.2% below (77.7% vs0.78.9%) the training set but the confusion matrix is very similar. It manages to predict the less than 50k class very well but suffers in the other two classes. This is what happened with the training set as well (training set confusion matrix shown below). The only difference is that the last income bracket class has more false positive results and hence struggles to perform well with this class in respect to the training set's performance. Nevertheless, the test shows that the model is trained properly and sufficient for use. "
   ]
  },
  {
   "cell_type": "code",
   "execution_count": 68,
   "metadata": {
    "collapsed": false
   },
   "outputs": [
    {
     "data": {
      "text/plain": [
       "array([[ 1630,  2204,     3],\n",
       "       [  606, 16295,     0],\n",
       "       [  771,  1114,    31]])"
      ]
     },
     "execution_count": 68,
     "metadata": {},
     "output_type": "execute_result"
    }
   ],
   "source": [
    "confusion_rfc"
   ]
  }
 ],
 "metadata": {
  "kernelspec": {
   "display_name": "Python 3",
   "language": "python",
   "name": "python3"
  },
  "language_info": {
   "codemirror_mode": {
    "name": "ipython",
    "version": 3
   },
   "file_extension": ".py",
   "mimetype": "text/x-python",
   "name": "python",
   "nbconvert_exporter": "python",
   "pygments_lexer": "ipython3",
   "version": "3.5.2"
  },
  "widgets": {
   "state": {},
   "version": "1.1.2"
  }
 },
 "nbformat": 4,
 "nbformat_minor": 0
}
